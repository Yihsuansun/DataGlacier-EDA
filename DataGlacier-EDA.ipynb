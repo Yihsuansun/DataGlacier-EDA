{
 "cells": [
  {
   "cell_type": "code",
   "execution_count": null,
   "id": "1663e703",
   "metadata": {},
   "outputs": [],
   "source": [
    "# Name: Yihsuan Sun\n",
    "# Email: yihsuan.sun88@gmail.com"
   ]
  },
  {
   "cell_type": "code",
   "execution_count": 1,
   "id": "51d69029",
   "metadata": {},
   "outputs": [],
   "source": [
    "import pandas as pd\n",
    "from matplotlib import pyplot as plt\n",
    "import seaborn as sns\n",
    "import numpy as np"
   ]
  },
  {
   "cell_type": "code",
   "execution_count": 2,
   "id": "ba9c9e9d",
   "metadata": {},
   "outputs": [],
   "source": [
    "# In this EDA project, I will generate 5-7 hypothesis initially"
   ]
  },
  {
   "cell_type": "code",
   "execution_count": 3,
   "id": "92a44227",
   "metadata": {},
   "outputs": [],
   "source": [
    "# Note from Canvas\n",
    "\n",
    "# Which company has maximum cab users at a particular time period?\n",
    "# Yellow cab has higher profits most of the time. And in the process of calculation, \n",
    "# we can noticed that the yellow cab has a relatively large user group\n",
    "#\n",
    "# Both companies will have fewer users by the end of the year\n",
    "\n",
    "# Does margin proportionally increase with increase in number of customers?\n",
    "# Take yellow cab company as an example,their user base is relatively large, \n",
    "# and as a result, their profits are relatively high\n",
    "\n",
    "# What are the attributes of these customer segments?\n",
    "# Male, 20-40(age), large or populous cities"
   ]
  },
  {
   "cell_type": "code",
   "execution_count": 4,
   "id": "a84b2d6c",
   "metadata": {},
   "outputs": [],
   "source": [
    "# hypothesis\n",
    "\n",
    "# 1. Middle-aged and seniors may need more cab service\n",
    "# From the dataframe and the chart, we will see that younger people are more likely to use cab services\n",
    "\n",
    "# 2. Populous cities will have a more extensive customer base\n",
    "# From the chart, we can notice that most of the user base occurs in cities with high population density\n",
    "\n",
    "# 3. Allowing customers to pay in cash will be more profitable\n",
    "# The results shows that Credit card payments are more prone to negative profits than cash payments, \n",
    "# which means that letting users pay in cash will be a better choice\n",
    "\n",
    "# 4. Women are more likely to use this service than men\n",
    "# More than half of the clients are Male\n",
    "\n",
    "# 5. Is the profit increasing year by year?\n",
    "# From 2016 to 2018, we can see that profits are decreasing year by year"
   ]
  },
  {
   "cell_type": "code",
   "execution_count": 5,
   "id": "ab1bc45d",
   "metadata": {},
   "outputs": [],
   "source": [
    "# Read Cab_Data.csv as dataframe\n",
    "CabData = pd.read_csv('Cab_Data.csv')"
   ]
  },
  {
   "cell_type": "code",
   "execution_count": 6,
   "id": "a4929ff2",
   "metadata": {},
   "outputs": [
    {
     "name": "stdout",
     "output_type": "stream",
     "text": [
      "359392\n"
     ]
    }
   ],
   "source": [
    "# Count number of rows -- CabData\n",
    "num_rows1 = CabData.count()[0]\n",
    "print(num_rows1)"
   ]
  },
  {
   "cell_type": "code",
   "execution_count": 7,
   "id": "893fd1a4",
   "metadata": {},
   "outputs": [
    {
     "data": {
      "text/html": [
       "<div>\n",
       "<style scoped>\n",
       "    .dataframe tbody tr th:only-of-type {\n",
       "        vertical-align: middle;\n",
       "    }\n",
       "\n",
       "    .dataframe tbody tr th {\n",
       "        vertical-align: top;\n",
       "    }\n",
       "\n",
       "    .dataframe thead th {\n",
       "        text-align: right;\n",
       "    }\n",
       "</style>\n",
       "<table border=\"1\" class=\"dataframe\">\n",
       "  <thead>\n",
       "    <tr style=\"text-align: right;\">\n",
       "      <th></th>\n",
       "      <th>Transaction ID</th>\n",
       "      <th>Date of Travel</th>\n",
       "      <th>Company</th>\n",
       "      <th>City</th>\n",
       "      <th>KM Travelled</th>\n",
       "      <th>Price Charged</th>\n",
       "      <th>Cost of Trip</th>\n",
       "    </tr>\n",
       "  </thead>\n",
       "  <tbody>\n",
       "    <tr>\n",
       "      <th>0</th>\n",
       "      <td>10000011</td>\n",
       "      <td>42377</td>\n",
       "      <td>Pink Cab</td>\n",
       "      <td>ATLANTA GA</td>\n",
       "      <td>30.45</td>\n",
       "      <td>370.95</td>\n",
       "      <td>313.635</td>\n",
       "    </tr>\n",
       "    <tr>\n",
       "      <th>1</th>\n",
       "      <td>10000012</td>\n",
       "      <td>42375</td>\n",
       "      <td>Pink Cab</td>\n",
       "      <td>ATLANTA GA</td>\n",
       "      <td>28.62</td>\n",
       "      <td>358.52</td>\n",
       "      <td>334.854</td>\n",
       "    </tr>\n",
       "    <tr>\n",
       "      <th>2</th>\n",
       "      <td>10000013</td>\n",
       "      <td>42371</td>\n",
       "      <td>Pink Cab</td>\n",
       "      <td>ATLANTA GA</td>\n",
       "      <td>9.04</td>\n",
       "      <td>125.20</td>\n",
       "      <td>97.632</td>\n",
       "    </tr>\n",
       "    <tr>\n",
       "      <th>3</th>\n",
       "      <td>10000014</td>\n",
       "      <td>42376</td>\n",
       "      <td>Pink Cab</td>\n",
       "      <td>ATLANTA GA</td>\n",
       "      <td>33.17</td>\n",
       "      <td>377.40</td>\n",
       "      <td>351.602</td>\n",
       "    </tr>\n",
       "    <tr>\n",
       "      <th>4</th>\n",
       "      <td>10000015</td>\n",
       "      <td>42372</td>\n",
       "      <td>Pink Cab</td>\n",
       "      <td>ATLANTA GA</td>\n",
       "      <td>8.73</td>\n",
       "      <td>114.62</td>\n",
       "      <td>97.776</td>\n",
       "    </tr>\n",
       "  </tbody>\n",
       "</table>\n",
       "</div>"
      ],
      "text/plain": [
       "   Transaction ID  Date of Travel   Company        City  KM Travelled  \\\n",
       "0        10000011           42377  Pink Cab  ATLANTA GA         30.45   \n",
       "1        10000012           42375  Pink Cab  ATLANTA GA         28.62   \n",
       "2        10000013           42371  Pink Cab  ATLANTA GA          9.04   \n",
       "3        10000014           42376  Pink Cab  ATLANTA GA         33.17   \n",
       "4        10000015           42372  Pink Cab  ATLANTA GA          8.73   \n",
       "\n",
       "   Price Charged  Cost of Trip  \n",
       "0         370.95       313.635  \n",
       "1         358.52       334.854  \n",
       "2         125.20        97.632  \n",
       "3         377.40       351.602  \n",
       "4         114.62        97.776  "
      ]
     },
     "execution_count": 7,
     "metadata": {},
     "output_type": "execute_result"
    }
   ],
   "source": [
    "CabData.head()"
   ]
  },
  {
   "cell_type": "code",
   "execution_count": 8,
   "id": "b1942598",
   "metadata": {},
   "outputs": [
    {
     "data": {
      "text/html": [
       "<div>\n",
       "<style scoped>\n",
       "    .dataframe tbody tr th:only-of-type {\n",
       "        vertical-align: middle;\n",
       "    }\n",
       "\n",
       "    .dataframe tbody tr th {\n",
       "        vertical-align: top;\n",
       "    }\n",
       "\n",
       "    .dataframe thead th {\n",
       "        text-align: right;\n",
       "    }\n",
       "</style>\n",
       "<table border=\"1\" class=\"dataframe\">\n",
       "  <thead>\n",
       "    <tr style=\"text-align: right;\">\n",
       "      <th></th>\n",
       "      <th>Transaction ID</th>\n",
       "      <th>Date of Travel</th>\n",
       "      <th>Company</th>\n",
       "      <th>City</th>\n",
       "      <th>KM Travelled</th>\n",
       "      <th>Price Charged</th>\n",
       "      <th>Cost of Trip</th>\n",
       "    </tr>\n",
       "  </thead>\n",
       "  <tbody>\n",
       "    <tr>\n",
       "      <th>359387</th>\n",
       "      <td>10440101</td>\n",
       "      <td>43108</td>\n",
       "      <td>Yellow Cab</td>\n",
       "      <td>WASHINGTON DC</td>\n",
       "      <td>4.80</td>\n",
       "      <td>69.24</td>\n",
       "      <td>63.3600</td>\n",
       "    </tr>\n",
       "    <tr>\n",
       "      <th>359388</th>\n",
       "      <td>10440104</td>\n",
       "      <td>43104</td>\n",
       "      <td>Yellow Cab</td>\n",
       "      <td>WASHINGTON DC</td>\n",
       "      <td>8.40</td>\n",
       "      <td>113.75</td>\n",
       "      <td>106.8480</td>\n",
       "    </tr>\n",
       "    <tr>\n",
       "      <th>359389</th>\n",
       "      <td>10440105</td>\n",
       "      <td>43105</td>\n",
       "      <td>Yellow Cab</td>\n",
       "      <td>WASHINGTON DC</td>\n",
       "      <td>27.75</td>\n",
       "      <td>437.07</td>\n",
       "      <td>349.6500</td>\n",
       "    </tr>\n",
       "    <tr>\n",
       "      <th>359390</th>\n",
       "      <td>10440106</td>\n",
       "      <td>43105</td>\n",
       "      <td>Yellow Cab</td>\n",
       "      <td>WASHINGTON DC</td>\n",
       "      <td>8.80</td>\n",
       "      <td>146.19</td>\n",
       "      <td>114.0480</td>\n",
       "    </tr>\n",
       "    <tr>\n",
       "      <th>359391</th>\n",
       "      <td>10440107</td>\n",
       "      <td>43102</td>\n",
       "      <td>Yellow Cab</td>\n",
       "      <td>WASHINGTON DC</td>\n",
       "      <td>12.76</td>\n",
       "      <td>191.58</td>\n",
       "      <td>177.6192</td>\n",
       "    </tr>\n",
       "  </tbody>\n",
       "</table>\n",
       "</div>"
      ],
      "text/plain": [
       "        Transaction ID  Date of Travel     Company           City  \\\n",
       "359387        10440101           43108  Yellow Cab  WASHINGTON DC   \n",
       "359388        10440104           43104  Yellow Cab  WASHINGTON DC   \n",
       "359389        10440105           43105  Yellow Cab  WASHINGTON DC   \n",
       "359390        10440106           43105  Yellow Cab  WASHINGTON DC   \n",
       "359391        10440107           43102  Yellow Cab  WASHINGTON DC   \n",
       "\n",
       "        KM Travelled  Price Charged  Cost of Trip  \n",
       "359387          4.80          69.24       63.3600  \n",
       "359388          8.40         113.75      106.8480  \n",
       "359389         27.75         437.07      349.6500  \n",
       "359390          8.80         146.19      114.0480  \n",
       "359391         12.76         191.58      177.6192  "
      ]
     },
     "execution_count": 8,
     "metadata": {},
     "output_type": "execute_result"
    }
   ],
   "source": [
    "CabData.tail()"
   ]
  },
  {
   "cell_type": "code",
   "execution_count": 9,
   "id": "122fab04",
   "metadata": {},
   "outputs": [
    {
     "name": "stdout",
     "output_type": "stream",
     "text": [
      "['Pink Cab' 'Yellow Cab']\n"
     ]
    }
   ],
   "source": [
    "# List all the compary \n",
    "print(CabData['Company'].unique())"
   ]
  },
  {
   "cell_type": "code",
   "execution_count": 10,
   "id": "b978c54d",
   "metadata": {},
   "outputs": [
    {
     "name": "stdout",
     "output_type": "stream",
     "text": [
      "Record number of rides (Pink Cab) 84711\n",
      "Record number of rides (Yellow Cab) 274681\n",
      "Record number of rides (other) 0\n"
     ]
    }
   ],
   "source": [
    "# Print the number of rows(Count) in Pink cab company and Yellow cab company\n",
    "\n",
    "C1 = 0 # Pink Cab\n",
    "C2 = 0 # Yellow Cab\n",
    "other = 0\n",
    "for i in range(0, len(CabData['Company'])):\n",
    "    \n",
    "    if CabData['Company'][i] == 'Pink Cab':   \n",
    "        C1 += 1\n",
    "    elif CabData['Company'][i] == 'Yellow Cab':\n",
    "        C2 += 1\n",
    "    else:\n",
    "        other += 1\n",
    "  \n",
    "print(\"Record number of rides (Pink Cab)\", C1)\n",
    "print(\"Record number of rides (Yellow Cab)\", C2)\n",
    "print(\"Record number of rides (other)\", other)"
   ]
  },
  {
   "cell_type": "code",
   "execution_count": 11,
   "id": "664bb707",
   "metadata": {},
   "outputs": [
    {
     "data": {
      "image/png": "[encoded data removed]",
      "text/plain": [
       "<Figure size 720x504 with 1 Axes>"
      ]
     },
     "metadata": {},
     "output_type": "display_data"
    }
   ],
   "source": [
    "# Plot pie chart\n",
    "Company = ['Pink Cab', 'Yellow Cab']\n",
    " \n",
    "data = [C1, C2]\n",
    " \n",
    "# Creating plot\n",
    "fig = plt.figure(figsize =(10, 7))\n",
    "plt.pie(data, labels = Company)\n",
    "\n",
    "plt.show()"
   ]
  },
  {
   "cell_type": "code",
   "execution_count": 12,
   "id": "6cfdacd6",
   "metadata": {},
   "outputs": [
    {
     "data": {
      "text/html": [
       "<div>\n",
       "<style scoped>\n",
       "    .dataframe tbody tr th:only-of-type {\n",
       "        vertical-align: middle;\n",
       "    }\n",
       "\n",
       "    .dataframe tbody tr th {\n",
       "        vertical-align: top;\n",
       "    }\n",
       "\n",
       "    .dataframe thead th {\n",
       "        text-align: right;\n",
       "    }\n",
       "</style>\n",
       "<table border=\"1\" class=\"dataframe\">\n",
       "  <thead>\n",
       "    <tr style=\"text-align: right;\">\n",
       "      <th></th>\n",
       "      <th>Transaction ID</th>\n",
       "    </tr>\n",
       "    <tr>\n",
       "      <th>City</th>\n",
       "      <th></th>\n",
       "    </tr>\n",
       "  </thead>\n",
       "  <tbody>\n",
       "    <tr>\n",
       "      <th>ATLANTA GA</th>\n",
       "      <td>7557</td>\n",
       "    </tr>\n",
       "    <tr>\n",
       "      <th>AUSTIN TX</th>\n",
       "      <td>4896</td>\n",
       "    </tr>\n",
       "    <tr>\n",
       "      <th>BOSTON MA</th>\n",
       "      <td>29692</td>\n",
       "    </tr>\n",
       "    <tr>\n",
       "      <th>CHICAGO IL</th>\n",
       "      <td>56625</td>\n",
       "    </tr>\n",
       "    <tr>\n",
       "      <th>DALLAS TX</th>\n",
       "      <td>7017</td>\n",
       "    </tr>\n",
       "    <tr>\n",
       "      <th>DENVER CO</th>\n",
       "      <td>3825</td>\n",
       "    </tr>\n",
       "    <tr>\n",
       "      <th>LOS ANGELES CA</th>\n",
       "      <td>48033</td>\n",
       "    </tr>\n",
       "    <tr>\n",
       "      <th>MIAMI FL</th>\n",
       "      <td>6454</td>\n",
       "    </tr>\n",
       "    <tr>\n",
       "      <th>NASHVILLE TN</th>\n",
       "      <td>3010</td>\n",
       "    </tr>\n",
       "    <tr>\n",
       "      <th>NEW YORK NY</th>\n",
       "      <td>99885</td>\n",
       "    </tr>\n",
       "    <tr>\n",
       "      <th>ORANGE COUNTY</th>\n",
       "      <td>3982</td>\n",
       "    </tr>\n",
       "    <tr>\n",
       "      <th>PHOENIX AZ</th>\n",
       "      <td>2064</td>\n",
       "    </tr>\n",
       "    <tr>\n",
       "      <th>PITTSBURGH PA</th>\n",
       "      <td>1313</td>\n",
       "    </tr>\n",
       "    <tr>\n",
       "      <th>SACRAMENTO CA</th>\n",
       "      <td>2367</td>\n",
       "    </tr>\n",
       "    <tr>\n",
       "      <th>SAN DIEGO CA</th>\n",
       "      <td>20488</td>\n",
       "    </tr>\n",
       "    <tr>\n",
       "      <th>SEATTLE WA</th>\n",
       "      <td>7997</td>\n",
       "    </tr>\n",
       "    <tr>\n",
       "      <th>SILICON VALLEY</th>\n",
       "      <td>8519</td>\n",
       "    </tr>\n",
       "    <tr>\n",
       "      <th>TUCSON AZ</th>\n",
       "      <td>1931</td>\n",
       "    </tr>\n",
       "    <tr>\n",
       "      <th>WASHINGTON DC</th>\n",
       "      <td>43737</td>\n",
       "    </tr>\n",
       "  </tbody>\n",
       "</table>\n",
       "</div>"
      ],
      "text/plain": [
       "                Transaction ID\n",
       "City                          \n",
       "ATLANTA GA                7557\n",
       "AUSTIN TX                 4896\n",
       "BOSTON MA                29692\n",
       "CHICAGO IL               56625\n",
       "DALLAS TX                 7017\n",
       "DENVER CO                 3825\n",
       "LOS ANGELES CA           48033\n",
       "MIAMI FL                  6454\n",
       "NASHVILLE TN              3010\n",
       "NEW YORK NY              99885\n",
       "ORANGE COUNTY             3982\n",
       "PHOENIX AZ                2064\n",
       "PITTSBURGH PA             1313\n",
       "SACRAMENTO CA             2367\n",
       "SAN DIEGO CA             20488\n",
       "SEATTLE WA                7997\n",
       "SILICON VALLEY            8519\n",
       "TUCSON AZ                 1931\n",
       "WASHINGTON DC            43737"
      ]
     },
     "execution_count": 12,
     "metadata": {},
     "output_type": "execute_result"
    }
   ],
   "source": [
    "#Count num of each City\n",
    "\n",
    "NIEC = CabData.groupby(['City'])['Transaction ID'].count()\n",
    "Num_In_Each_City = NIEC.to_frame()\n",
    "\n",
    "Num_In_Each_City"
   ]
  },
  {
   "cell_type": "code",
   "execution_count": 13,
   "id": "4829d8f7",
   "metadata": {},
   "outputs": [
    {
     "data": {
      "text/plain": [
       "<AxesSubplot:ylabel='Transaction ID'>"
      ]
     },
     "execution_count": 13,
     "metadata": {},
     "output_type": "execute_result"
    },
    {
     "data": {
      "image/png": "[encoded data removed]",
      "text/plain": [
       "<Figure size 432x288 with 1 Axes>"
      ]
     },
     "metadata": {},
     "output_type": "display_data"
    }
   ],
   "source": [
    "# First plot, next one is better\n",
    "Num_In_Each_City.groupby(['City']).sum().plot(kind='pie', y='Transaction ID')"
   ]
  },
  {
   "cell_type": "code",
   "execution_count": 14,
   "id": "9571b306",
   "metadata": {},
   "outputs": [
    {
     "data": {
      "text/plain": [
       "array([<AxesSubplot:ylabel='Transaction ID'>], dtype=object)"
      ]
     },
     "execution_count": 14,
     "metadata": {},
     "output_type": "execute_result"
    },
    {
     "data": {
      "image/png": "[encoded data removed]",
      "text/plain": [
       "<Figure size 1080x720 with 1 Axes>"
      ]
     },
     "metadata": {},
     "output_type": "display_data"
    }
   ],
   "source": [
    "# Plot with percentage\n",
    "Num_In_Each_City.groupby(['City']).sum().plot(kind='pie', subplots=True, shadow = True,startangle=90,\n",
    "figsize=(15,10), autopct='%1.1f%%')"
   ]
  },
  {
   "cell_type": "code",
   "execution_count": 15,
   "id": "23aad2ba",
   "metadata": {},
   "outputs": [],
   "source": [
    "City = pd.read_csv('City.csv') # Read City.csv as dataframe"
   ]
  },
  {
   "cell_type": "code",
   "execution_count": 16,
   "id": "e5492d5c",
   "metadata": {},
   "outputs": [
    {
     "name": "stdout",
     "output_type": "stream",
     "text": [
      "20\n"
     ]
    }
   ],
   "source": [
    "# Count rows in City dataframe\n",
    "num_rows2 = City.count()[0]\n",
    "print(num_rows2)"
   ]
  },
  {
   "cell_type": "code",
   "execution_count": 17,
   "id": "79527062",
   "metadata": {},
   "outputs": [
    {
     "data": {
      "text/html": [
       "<div>\n",
       "<style scoped>\n",
       "    .dataframe tbody tr th:only-of-type {\n",
       "        vertical-align: middle;\n",
       "    }\n",
       "\n",
       "    .dataframe tbody tr th {\n",
       "        vertical-align: top;\n",
       "    }\n",
       "\n",
       "    .dataframe thead th {\n",
       "        text-align: right;\n",
       "    }\n",
       "</style>\n",
       "<table border=\"1\" class=\"dataframe\">\n",
       "  <thead>\n",
       "    <tr style=\"text-align: right;\">\n",
       "      <th></th>\n",
       "      <th>City</th>\n",
       "      <th>Population</th>\n",
       "      <th>Users</th>\n",
       "    </tr>\n",
       "  </thead>\n",
       "  <tbody>\n",
       "    <tr>\n",
       "      <th>0</th>\n",
       "      <td>NEW YORK NY</td>\n",
       "      <td>8,405,837</td>\n",
       "      <td>302,149</td>\n",
       "    </tr>\n",
       "    <tr>\n",
       "      <th>1</th>\n",
       "      <td>CHICAGO IL</td>\n",
       "      <td>1,955,130</td>\n",
       "      <td>164,468</td>\n",
       "    </tr>\n",
       "    <tr>\n",
       "      <th>2</th>\n",
       "      <td>LOS ANGELES CA</td>\n",
       "      <td>1,595,037</td>\n",
       "      <td>144,132</td>\n",
       "    </tr>\n",
       "    <tr>\n",
       "      <th>3</th>\n",
       "      <td>MIAMI FL</td>\n",
       "      <td>1,339,155</td>\n",
       "      <td>17,675</td>\n",
       "    </tr>\n",
       "    <tr>\n",
       "      <th>4</th>\n",
       "      <td>SILICON VALLEY</td>\n",
       "      <td>1,177,609</td>\n",
       "      <td>27,247</td>\n",
       "    </tr>\n",
       "  </tbody>\n",
       "</table>\n",
       "</div>"
      ],
      "text/plain": [
       "             City   Population      Users\n",
       "0     NEW YORK NY   8,405,837    302,149 \n",
       "1      CHICAGO IL   1,955,130    164,468 \n",
       "2  LOS ANGELES CA   1,595,037    144,132 \n",
       "3        MIAMI FL   1,339,155     17,675 \n",
       "4  SILICON VALLEY   1,177,609     27,247 "
      ]
     },
     "execution_count": 17,
     "metadata": {},
     "output_type": "execute_result"
    }
   ],
   "source": [
    "City.head()"
   ]
  },
  {
   "cell_type": "code",
   "execution_count": 18,
   "id": "d83c6c93",
   "metadata": {},
   "outputs": [
    {
     "name": "stdout",
     "output_type": "stream",
     "text": [
      "['NEW YORK NY' 'CHICAGO IL' 'LOS ANGELES CA' 'MIAMI FL' 'SILICON VALLEY'\n",
      " 'ORANGE COUNTY' 'SAN DIEGO CA' 'PHOENIX AZ' 'DALLAS TX' 'ATLANTA GA'\n",
      " 'DENVER CO' 'AUSTIN TX' 'SEATTLE WA' 'TUCSON AZ' 'SAN FRANCISCO CA'\n",
      " 'SACRAMENTO CA' 'PITTSBURGH PA' 'WASHINGTON DC' 'NASHVILLE TN'\n",
      " 'BOSTON MA']\n"
     ]
    }
   ],
   "source": [
    "# List all the city in City.csv\n",
    "print(City['City'].unique())"
   ]
  },
  {
   "cell_type": "code",
   "execution_count": 19,
   "id": "bb4b8be3",
   "metadata": {},
   "outputs": [],
   "source": [
    "Customer_ID = pd.read_csv('Customer_ID.csv') # Read Customer_ID.csv as dataframe"
   ]
  },
  {
   "cell_type": "code",
   "execution_count": 20,
   "id": "65f1e432",
   "metadata": {},
   "outputs": [
    {
     "name": "stdout",
     "output_type": "stream",
     "text": [
      "49171\n"
     ]
    }
   ],
   "source": [
    "# Count rows in Customer_ID\n",
    "num_rows3 = Customer_ID.count()[0]\n",
    "print(num_rows3)"
   ]
  },
  {
   "cell_type": "code",
   "execution_count": 21,
   "id": "cbca6ba7",
   "metadata": {},
   "outputs": [
    {
     "data": {
      "text/html": [
       "<div>\n",
       "<style scoped>\n",
       "    .dataframe tbody tr th:only-of-type {\n",
       "        vertical-align: middle;\n",
       "    }\n",
       "\n",
       "    .dataframe tbody tr th {\n",
       "        vertical-align: top;\n",
       "    }\n",
       "\n",
       "    .dataframe thead th {\n",
       "        text-align: right;\n",
       "    }\n",
       "</style>\n",
       "<table border=\"1\" class=\"dataframe\">\n",
       "  <thead>\n",
       "    <tr style=\"text-align: right;\">\n",
       "      <th></th>\n",
       "      <th>Customer ID</th>\n",
       "      <th>Gender</th>\n",
       "      <th>Age</th>\n",
       "      <th>Income (USD/Month)</th>\n",
       "    </tr>\n",
       "  </thead>\n",
       "  <tbody>\n",
       "    <tr>\n",
       "      <th>0</th>\n",
       "      <td>29290</td>\n",
       "      <td>Male</td>\n",
       "      <td>28</td>\n",
       "      <td>10813</td>\n",
       "    </tr>\n",
       "    <tr>\n",
       "      <th>1</th>\n",
       "      <td>27703</td>\n",
       "      <td>Male</td>\n",
       "      <td>27</td>\n",
       "      <td>9237</td>\n",
       "    </tr>\n",
       "    <tr>\n",
       "      <th>2</th>\n",
       "      <td>28712</td>\n",
       "      <td>Male</td>\n",
       "      <td>53</td>\n",
       "      <td>11242</td>\n",
       "    </tr>\n",
       "    <tr>\n",
       "      <th>3</th>\n",
       "      <td>28020</td>\n",
       "      <td>Male</td>\n",
       "      <td>23</td>\n",
       "      <td>23327</td>\n",
       "    </tr>\n",
       "    <tr>\n",
       "      <th>4</th>\n",
       "      <td>27182</td>\n",
       "      <td>Male</td>\n",
       "      <td>33</td>\n",
       "      <td>8536</td>\n",
       "    </tr>\n",
       "  </tbody>\n",
       "</table>\n",
       "</div>"
      ],
      "text/plain": [
       "   Customer ID Gender  Age  Income (USD/Month)\n",
       "0        29290   Male   28               10813\n",
       "1        27703   Male   27                9237\n",
       "2        28712   Male   53               11242\n",
       "3        28020   Male   23               23327\n",
       "4        27182   Male   33                8536"
      ]
     },
     "execution_count": 21,
     "metadata": {},
     "output_type": "execute_result"
    }
   ],
   "source": [
    "Customer_ID.head()"
   ]
  },
  {
   "cell_type": "code",
   "execution_count": 22,
   "id": "52244be1",
   "metadata": {},
   "outputs": [],
   "source": [
    "# sns.distplot(a=Customer_ID[\"Age\"], hist=True)"
   ]
  },
  {
   "cell_type": "code",
   "execution_count": 23,
   "id": "742189dd",
   "metadata": {},
   "outputs": [
    {
     "data": {
      "text/plain": [
       "(array([7903., 7907., 7806., 6161., 6795., 2641., 2149., 2584., 2608.,\n",
       "        2617.]),\n",
       " array([18. , 22.7, 27.4, 32.1, 36.8, 41.5, 46.2, 50.9, 55.6, 60.3, 65. ]),\n",
       " <BarContainer object of 10 artists>)"
      ]
     },
     "execution_count": 23,
     "metadata": {},
     "output_type": "execute_result"
    },
    {
     "data": {
      "image/png": "[encoded data removed]",
      "text/plain": [
       "<Figure size 432x288 with 1 Axes>"
      ]
     },
     "metadata": {
      "needs_background": "light"
     },
     "output_type": "display_data"
    }
   ],
   "source": [
    "# Display in histogram, num of each age\n",
    "plt.hist(Customer_ID[\"Age\"]) "
   ]
  },
  {
   "cell_type": "code",
   "execution_count": 24,
   "id": "6963f394",
   "metadata": {},
   "outputs": [
    {
     "name": "stdout",
     "output_type": "stream",
     "text": [
      "Number of customer whose younger than 20 years old 3112\n",
      "Number of customer between the ages of 20 and 30 15797\n",
      "Number of customer between the ages of 30 and 40 15579\n",
      "Number of customer between the ages of 40 and 50 6336\n",
      "Number of customer between the ages of 50 and 70 8347\n",
      "Number of customer whose older than 70 years old 0\n"
     ]
    }
   ],
   "source": [
    "# print the count in each age range\n",
    "G1 = 0\n",
    "G2 = 0\n",
    "G3 = 0\n",
    "G4 = 0\n",
    "G5 = 0\n",
    "G6 = 0\n",
    "\n",
    "for i in range(0, len(Customer_ID[\"Age\"])):\n",
    "    \n",
    "    if Customer_ID[\"Age\"][i] <20:   \n",
    "        G1 += 1\n",
    "    elif Customer_ID[\"Age\"][i] <30:\n",
    "        G2 += 1\n",
    "    elif Customer_ID[\"Age\"][i] <40:\n",
    "        G3 += 1\n",
    "    elif Customer_ID[\"Age\"][i] <50:\n",
    "        G4 += 1\n",
    "    elif Customer_ID[\"Age\"][i] <70:\n",
    "        G5 += 1\n",
    "    else:\n",
    "        G6 += 1\n",
    "  \n",
    "print(\"Number of customer whose younger than 20 years old\", G1)\n",
    "print(\"Number of customer between the ages of 20 and 30\", G2)\n",
    "print(\"Number of customer between the ages of 30 and 40\", G3)\n",
    "print(\"Number of customer between the ages of 40 and 50\", G4)\n",
    "print(\"Number of customer between the ages of 50 and 70\", G5)\n",
    "print(\"Number of customer whose older than 70 years old\", G6)"
   ]
  },
  {
   "cell_type": "code",
   "execution_count": 25,
   "id": "1cd5638f",
   "metadata": {},
   "outputs": [
    {
     "data": {
      "image/png": "[encoded data removed]",
      "text/plain": [
       "<Figure size 720x504 with 1 Axes>"
      ]
     },
     "metadata": {},
     "output_type": "display_data"
    }
   ],
   "source": [
    "# Create a pie chart\n",
    "\n",
    "AgeGroup = ['< 20', '20 ~ 30', '30 ~ 40','40 ~ 50', '50 ~ 70', '> 70']\n",
    " \n",
    "data = [G1, G2, G3, G4, G5, G6]\n",
    "\n",
    "colors = ( \"red\", \"orange\", \"yellow\", \"green\", \"blue\", \"purple\")\n",
    "\n",
    "explode = (0.1, 0.2, 0.1, 0.2, 0.1, 0.2)\n",
    "\n",
    "wp = { 'linewidth' : 2, 'edgecolor' : \"black\" }\n",
    "\n",
    "# Creating autocpt arguments -- https://www.geeksforgeeks.org/plot-a-pie-chart-in-python-using-matplotlib/\n",
    "def func(pct, allvalues):\n",
    "    absolute = int(pct / 100.*np.sum(allvalues))\n",
    "    return \"{:.1f}%\\n({:d} g)\".format(pct, absolute)\n",
    "\n",
    "fig, ax = plt.subplots(figsize =(10, 7))\n",
    "wedges, texts, autotexts = ax.pie(data,\n",
    "                                  autopct = lambda pct: func(pct, data),\n",
    "                                  explode = explode,\n",
    "                                  labels = AgeGroup,\n",
    "                                  shadow = True,\n",
    "                                  colors = colors,\n",
    "                                  startangle = 70,\n",
    "                                  wedgeprops = wp,\n",
    "                                  textprops = dict(color =\"black\"))"
   ]
  },
  {
   "cell_type": "code",
   "execution_count": 26,
   "id": "d77f4ede",
   "metadata": {},
   "outputs": [
    {
     "data": {
      "text/plain": [
       "(array([1551., 1561., 1641., 1554., 1596., 1615., 1547., 1597., 1577.,\n",
       "        1571., 1588., 1511., 1573., 1549., 1585., 1495.,    0., 1629.,\n",
       "        1503., 1534., 1575., 1512., 1624., 1561.,  523.,  526.,  532.,\n",
       "         492.,  551.,  540.,  539.,  533.,  539.,    0.,  538.,  525.,\n",
       "         539.,  510.,  506.,  504.,  521.,  498.,  536.,  552.,  501.,\n",
       "         580.,  497.,  512.,  536.,  492.]),\n",
       " array([18.  , 18.94, 19.88, 20.82, 21.76, 22.7 , 23.64, 24.58, 25.52,\n",
       "        26.46, 27.4 , 28.34, 29.28, 30.22, 31.16, 32.1 , 33.04, 33.98,\n",
       "        34.92, 35.86, 36.8 , 37.74, 38.68, 39.62, 40.56, 41.5 , 42.44,\n",
       "        43.38, 44.32, 45.26, 46.2 , 47.14, 48.08, 49.02, 49.96, 50.9 ,\n",
       "        51.84, 52.78, 53.72, 54.66, 55.6 , 56.54, 57.48, 58.42, 59.36,\n",
       "        60.3 , 61.24, 62.18, 63.12, 64.06, 65.  ]),\n",
       " <BarContainer object of 50 artists>)"
      ]
     },
     "execution_count": 26,
     "metadata": {},
     "output_type": "execute_result"
    },
    {
     "data": {
      "image/png": "[encoded data removed]",
      "text/plain": [
       "<Figure size 432x288 with 1 Axes>"
      ]
     },
     "metadata": {
      "needs_background": "light"
     },
     "output_type": "display_data"
    }
   ],
   "source": [
    "# Display in histogram - num in each age\n",
    "plt.hist(Customer_ID[\"Age\"], bins=50)"
   ]
  },
  {
   "cell_type": "code",
   "execution_count": 27,
   "id": "a2d110cb",
   "metadata": {},
   "outputs": [],
   "source": [
    "Transaction_ID = pd.read_csv('Transaction_ID.csv') # Read Transaction_ID.csv as dataframe"
   ]
  },
  {
   "cell_type": "code",
   "execution_count": 28,
   "id": "345261cd",
   "metadata": {},
   "outputs": [
    {
     "name": "stdout",
     "output_type": "stream",
     "text": [
      "440098\n"
     ]
    }
   ],
   "source": [
    "# print number of rows\n",
    "num_rows4 = Transaction_ID.count()[0]\n",
    "print(num_rows4)"
   ]
  },
  {
   "cell_type": "code",
   "execution_count": 29,
   "id": "3b7acf7d",
   "metadata": {},
   "outputs": [
    {
     "data": {
      "text/html": [
       "<div>\n",
       "<style scoped>\n",
       "    .dataframe tbody tr th:only-of-type {\n",
       "        vertical-align: middle;\n",
       "    }\n",
       "\n",
       "    .dataframe tbody tr th {\n",
       "        vertical-align: top;\n",
       "    }\n",
       "\n",
       "    .dataframe thead th {\n",
       "        text-align: right;\n",
       "    }\n",
       "</style>\n",
       "<table border=\"1\" class=\"dataframe\">\n",
       "  <thead>\n",
       "    <tr style=\"text-align: right;\">\n",
       "      <th></th>\n",
       "      <th>Transaction ID</th>\n",
       "      <th>Customer ID</th>\n",
       "      <th>Payment_Mode</th>\n",
       "    </tr>\n",
       "  </thead>\n",
       "  <tbody>\n",
       "    <tr>\n",
       "      <th>0</th>\n",
       "      <td>10000011</td>\n",
       "      <td>29290</td>\n",
       "      <td>Card</td>\n",
       "    </tr>\n",
       "    <tr>\n",
       "      <th>1</th>\n",
       "      <td>10000012</td>\n",
       "      <td>27703</td>\n",
       "      <td>Card</td>\n",
       "    </tr>\n",
       "    <tr>\n",
       "      <th>2</th>\n",
       "      <td>10000013</td>\n",
       "      <td>28712</td>\n",
       "      <td>Cash</td>\n",
       "    </tr>\n",
       "    <tr>\n",
       "      <th>3</th>\n",
       "      <td>10000014</td>\n",
       "      <td>28020</td>\n",
       "      <td>Cash</td>\n",
       "    </tr>\n",
       "    <tr>\n",
       "      <th>4</th>\n",
       "      <td>10000015</td>\n",
       "      <td>27182</td>\n",
       "      <td>Card</td>\n",
       "    </tr>\n",
       "  </tbody>\n",
       "</table>\n",
       "</div>"
      ],
      "text/plain": [
       "   Transaction ID  Customer ID Payment_Mode\n",
       "0        10000011        29290         Card\n",
       "1        10000012        27703         Card\n",
       "2        10000013        28712         Cash\n",
       "3        10000014        28020         Cash\n",
       "4        10000015        27182         Card"
      ]
     },
     "execution_count": 29,
     "metadata": {},
     "output_type": "execute_result"
    }
   ],
   "source": [
    "Transaction_ID.head()"
   ]
  },
  {
   "cell_type": "code",
   "execution_count": 30,
   "id": "14b600d5",
   "metadata": {},
   "outputs": [
    {
     "data": {
      "text/html": [
       "<div>\n",
       "<style scoped>\n",
       "    .dataframe tbody tr th:only-of-type {\n",
       "        vertical-align: middle;\n",
       "    }\n",
       "\n",
       "    .dataframe tbody tr th {\n",
       "        vertical-align: top;\n",
       "    }\n",
       "\n",
       "    .dataframe thead th {\n",
       "        text-align: right;\n",
       "    }\n",
       "</style>\n",
       "<table border=\"1\" class=\"dataframe\">\n",
       "  <thead>\n",
       "    <tr style=\"text-align: right;\">\n",
       "      <th></th>\n",
       "      <th>Transaction ID</th>\n",
       "      <th>Customer ID</th>\n",
       "      <th>Payment_Mode</th>\n",
       "    </tr>\n",
       "  </thead>\n",
       "  <tbody>\n",
       "    <tr>\n",
       "      <th>440093</th>\n",
       "      <td>10440104</td>\n",
       "      <td>53286</td>\n",
       "      <td>Cash</td>\n",
       "    </tr>\n",
       "    <tr>\n",
       "      <th>440094</th>\n",
       "      <td>10440105</td>\n",
       "      <td>52265</td>\n",
       "      <td>Cash</td>\n",
       "    </tr>\n",
       "    <tr>\n",
       "      <th>440095</th>\n",
       "      <td>10440106</td>\n",
       "      <td>52175</td>\n",
       "      <td>Card</td>\n",
       "    </tr>\n",
       "    <tr>\n",
       "      <th>440096</th>\n",
       "      <td>10440107</td>\n",
       "      <td>52917</td>\n",
       "      <td>Card</td>\n",
       "    </tr>\n",
       "    <tr>\n",
       "      <th>440097</th>\n",
       "      <td>10440108</td>\n",
       "      <td>51587</td>\n",
       "      <td>Card</td>\n",
       "    </tr>\n",
       "  </tbody>\n",
       "</table>\n",
       "</div>"
      ],
      "text/plain": [
       "        Transaction ID  Customer ID Payment_Mode\n",
       "440093        10440104        53286         Cash\n",
       "440094        10440105        52265         Cash\n",
       "440095        10440106        52175         Card\n",
       "440096        10440107        52917         Card\n",
       "440097        10440108        51587         Card"
      ]
     },
     "execution_count": 30,
     "metadata": {},
     "output_type": "execute_result"
    }
   ],
   "source": [
    "Transaction_ID.tail()"
   ]
  },
  {
   "cell_type": "code",
   "execution_count": 31,
   "id": "b53f3750",
   "metadata": {},
   "outputs": [
    {
     "name": "stdout",
     "output_type": "stream",
     "text": [
      "['Card' 'Cash']\n"
     ]
    }
   ],
   "source": [
    "# List all the payment method\n",
    "print(Transaction_ID['Payment_Mode'].unique())"
   ]
  },
  {
   "cell_type": "code",
   "execution_count": 32,
   "id": "5f461f74",
   "metadata": {},
   "outputs": [],
   "source": [
    "# Merge three dataframe - CabData, Customer_ID, Transaction_ID"
   ]
  },
  {
   "cell_type": "code",
   "execution_count": 33,
   "id": "0b349f68",
   "metadata": {},
   "outputs": [],
   "source": [
    "mergeTC = pd.merge(Transaction_ID, CabData, on ='Transaction ID')"
   ]
  },
  {
   "cell_type": "code",
   "execution_count": 34,
   "id": "865da71d",
   "metadata": {},
   "outputs": [
    {
     "name": "stdout",
     "output_type": "stream",
     "text": [
      "359392\n"
     ]
    }
   ],
   "source": [
    "num_rows5 = mergeTC.count()[0]\n",
    "print(num_rows5)"
   ]
  },
  {
   "cell_type": "code",
   "execution_count": 35,
   "id": "7a7f2265",
   "metadata": {},
   "outputs": [
    {
     "data": {
      "text/html": [
       "<div>\n",
       "<style scoped>\n",
       "    .dataframe tbody tr th:only-of-type {\n",
       "        vertical-align: middle;\n",
       "    }\n",
       "\n",
       "    .dataframe tbody tr th {\n",
       "        vertical-align: top;\n",
       "    }\n",
       "\n",
       "    .dataframe thead th {\n",
       "        text-align: right;\n",
       "    }\n",
       "</style>\n",
       "<table border=\"1\" class=\"dataframe\">\n",
       "  <thead>\n",
       "    <tr style=\"text-align: right;\">\n",
       "      <th></th>\n",
       "      <th>Transaction ID</th>\n",
       "      <th>Customer ID</th>\n",
       "      <th>Payment_Mode</th>\n",
       "      <th>Date of Travel</th>\n",
       "      <th>Company</th>\n",
       "      <th>City</th>\n",
       "      <th>KM Travelled</th>\n",
       "      <th>Price Charged</th>\n",
       "      <th>Cost of Trip</th>\n",
       "    </tr>\n",
       "  </thead>\n",
       "  <tbody>\n",
       "    <tr>\n",
       "      <th>0</th>\n",
       "      <td>10000011</td>\n",
       "      <td>29290</td>\n",
       "      <td>Card</td>\n",
       "      <td>42377</td>\n",
       "      <td>Pink Cab</td>\n",
       "      <td>ATLANTA GA</td>\n",
       "      <td>30.45</td>\n",
       "      <td>370.95</td>\n",
       "      <td>313.635</td>\n",
       "    </tr>\n",
       "    <tr>\n",
       "      <th>1</th>\n",
       "      <td>10000012</td>\n",
       "      <td>27703</td>\n",
       "      <td>Card</td>\n",
       "      <td>42375</td>\n",
       "      <td>Pink Cab</td>\n",
       "      <td>ATLANTA GA</td>\n",
       "      <td>28.62</td>\n",
       "      <td>358.52</td>\n",
       "      <td>334.854</td>\n",
       "    </tr>\n",
       "    <tr>\n",
       "      <th>2</th>\n",
       "      <td>10000013</td>\n",
       "      <td>28712</td>\n",
       "      <td>Cash</td>\n",
       "      <td>42371</td>\n",
       "      <td>Pink Cab</td>\n",
       "      <td>ATLANTA GA</td>\n",
       "      <td>9.04</td>\n",
       "      <td>125.20</td>\n",
       "      <td>97.632</td>\n",
       "    </tr>\n",
       "    <tr>\n",
       "      <th>3</th>\n",
       "      <td>10000014</td>\n",
       "      <td>28020</td>\n",
       "      <td>Cash</td>\n",
       "      <td>42376</td>\n",
       "      <td>Pink Cab</td>\n",
       "      <td>ATLANTA GA</td>\n",
       "      <td>33.17</td>\n",
       "      <td>377.40</td>\n",
       "      <td>351.602</td>\n",
       "    </tr>\n",
       "    <tr>\n",
       "      <th>4</th>\n",
       "      <td>10000015</td>\n",
       "      <td>27182</td>\n",
       "      <td>Card</td>\n",
       "      <td>42372</td>\n",
       "      <td>Pink Cab</td>\n",
       "      <td>ATLANTA GA</td>\n",
       "      <td>8.73</td>\n",
       "      <td>114.62</td>\n",
       "      <td>97.776</td>\n",
       "    </tr>\n",
       "  </tbody>\n",
       "</table>\n",
       "</div>"
      ],
      "text/plain": [
       "   Transaction ID  Customer ID Payment_Mode  Date of Travel   Company  \\\n",
       "0        10000011        29290         Card           42377  Pink Cab   \n",
       "1        10000012        27703         Card           42375  Pink Cab   \n",
       "2        10000013        28712         Cash           42371  Pink Cab   \n",
       "3        10000014        28020         Cash           42376  Pink Cab   \n",
       "4        10000015        27182         Card           42372  Pink Cab   \n",
       "\n",
       "         City  KM Travelled  Price Charged  Cost of Trip  \n",
       "0  ATLANTA GA         30.45         370.95       313.635  \n",
       "1  ATLANTA GA         28.62         358.52       334.854  \n",
       "2  ATLANTA GA          9.04         125.20        97.632  \n",
       "3  ATLANTA GA         33.17         377.40       351.602  \n",
       "4  ATLANTA GA          8.73         114.62        97.776  "
      ]
     },
     "execution_count": 35,
     "metadata": {},
     "output_type": "execute_result"
    }
   ],
   "source": [
    "mergeTC.head()"
   ]
  },
  {
   "cell_type": "code",
   "execution_count": 36,
   "id": "ee74d493",
   "metadata": {},
   "outputs": [],
   "source": [
    "mergeTCC = pd.merge(mergeTC, Customer_ID, on ='Customer ID')"
   ]
  },
  {
   "cell_type": "code",
   "execution_count": 37,
   "id": "00cb8df5",
   "metadata": {},
   "outputs": [
    {
     "name": "stdout",
     "output_type": "stream",
     "text": [
      "359392\n"
     ]
    }
   ],
   "source": [
    "num_rows6 = mergeTCC.count()[0]\n",
    "print(num_rows6)"
   ]
  },
  {
   "cell_type": "code",
   "execution_count": 38,
   "id": "7c055d22",
   "metadata": {},
   "outputs": [
    {
     "data": {
      "text/html": [
       "<div>\n",
       "<style scoped>\n",
       "    .dataframe tbody tr th:only-of-type {\n",
       "        vertical-align: middle;\n",
       "    }\n",
       "\n",
       "    .dataframe tbody tr th {\n",
       "        vertical-align: top;\n",
       "    }\n",
       "\n",
       "    .dataframe thead th {\n",
       "        text-align: right;\n",
       "    }\n",
       "</style>\n",
       "<table border=\"1\" class=\"dataframe\">\n",
       "  <thead>\n",
       "    <tr style=\"text-align: right;\">\n",
       "      <th></th>\n",
       "      <th>Transaction ID</th>\n",
       "      <th>Customer ID</th>\n",
       "      <th>Payment_Mode</th>\n",
       "      <th>Date of Travel</th>\n",
       "      <th>Company</th>\n",
       "      <th>City</th>\n",
       "      <th>KM Travelled</th>\n",
       "      <th>Price Charged</th>\n",
       "      <th>Cost of Trip</th>\n",
       "      <th>Gender</th>\n",
       "      <th>Age</th>\n",
       "      <th>Income (USD/Month)</th>\n",
       "    </tr>\n",
       "  </thead>\n",
       "  <tbody>\n",
       "    <tr>\n",
       "      <th>0</th>\n",
       "      <td>10000011</td>\n",
       "      <td>29290</td>\n",
       "      <td>Card</td>\n",
       "      <td>42377</td>\n",
       "      <td>Pink Cab</td>\n",
       "      <td>ATLANTA GA</td>\n",
       "      <td>30.45</td>\n",
       "      <td>370.95</td>\n",
       "      <td>313.6350</td>\n",
       "      <td>Male</td>\n",
       "      <td>28</td>\n",
       "      <td>10813</td>\n",
       "    </tr>\n",
       "    <tr>\n",
       "      <th>1</th>\n",
       "      <td>10351127</td>\n",
       "      <td>29290</td>\n",
       "      <td>Cash</td>\n",
       "      <td>43302</td>\n",
       "      <td>Yellow Cab</td>\n",
       "      <td>ATLANTA GA</td>\n",
       "      <td>26.19</td>\n",
       "      <td>598.70</td>\n",
       "      <td>317.4228</td>\n",
       "      <td>Male</td>\n",
       "      <td>28</td>\n",
       "      <td>10813</td>\n",
       "    </tr>\n",
       "    <tr>\n",
       "      <th>2</th>\n",
       "      <td>10412921</td>\n",
       "      <td>29290</td>\n",
       "      <td>Card</td>\n",
       "      <td>43427</td>\n",
       "      <td>Yellow Cab</td>\n",
       "      <td>ATLANTA GA</td>\n",
       "      <td>42.55</td>\n",
       "      <td>792.05</td>\n",
       "      <td>597.4020</td>\n",
       "      <td>Male</td>\n",
       "      <td>28</td>\n",
       "      <td>10813</td>\n",
       "    </tr>\n",
       "    <tr>\n",
       "      <th>3</th>\n",
       "      <td>10000012</td>\n",
       "      <td>27703</td>\n",
       "      <td>Card</td>\n",
       "      <td>42375</td>\n",
       "      <td>Pink Cab</td>\n",
       "      <td>ATLANTA GA</td>\n",
       "      <td>28.62</td>\n",
       "      <td>358.52</td>\n",
       "      <td>334.8540</td>\n",
       "      <td>Male</td>\n",
       "      <td>27</td>\n",
       "      <td>9237</td>\n",
       "    </tr>\n",
       "    <tr>\n",
       "      <th>4</th>\n",
       "      <td>10320494</td>\n",
       "      <td>27703</td>\n",
       "      <td>Card</td>\n",
       "      <td>43211</td>\n",
       "      <td>Yellow Cab</td>\n",
       "      <td>ATLANTA GA</td>\n",
       "      <td>36.38</td>\n",
       "      <td>721.10</td>\n",
       "      <td>467.1192</td>\n",
       "      <td>Male</td>\n",
       "      <td>27</td>\n",
       "      <td>9237</td>\n",
       "    </tr>\n",
       "  </tbody>\n",
       "</table>\n",
       "</div>"
      ],
      "text/plain": [
       "   Transaction ID  Customer ID Payment_Mode  Date of Travel     Company  \\\n",
       "0        10000011        29290         Card           42377    Pink Cab   \n",
       "1        10351127        29290         Cash           43302  Yellow Cab   \n",
       "2        10412921        29290         Card           43427  Yellow Cab   \n",
       "3        10000012        27703         Card           42375    Pink Cab   \n",
       "4        10320494        27703         Card           43211  Yellow Cab   \n",
       "\n",
       "         City  KM Travelled  Price Charged  Cost of Trip Gender  Age  \\\n",
       "0  ATLANTA GA         30.45         370.95      313.6350   Male   28   \n",
       "1  ATLANTA GA         26.19         598.70      317.4228   Male   28   \n",
       "2  ATLANTA GA         42.55         792.05      597.4020   Male   28   \n",
       "3  ATLANTA GA         28.62         358.52      334.8540   Male   27   \n",
       "4  ATLANTA GA         36.38         721.10      467.1192   Male   27   \n",
       "\n",
       "   Income (USD/Month)  \n",
       "0               10813  \n",
       "1               10813  \n",
       "2               10813  \n",
       "3                9237  \n",
       "4                9237  "
      ]
     },
     "execution_count": 38,
     "metadata": {},
     "output_type": "execute_result"
    }
   ],
   "source": [
    "mergeTCC.head()"
   ]
  },
  {
   "cell_type": "code",
   "execution_count": 39,
   "id": "824b396e",
   "metadata": {},
   "outputs": [],
   "source": [
    "mergeTCC[\"profit\"] = mergeTCC[\"Price Charged\"] - mergeTCC[\"Cost of Trip\"] # create profit column"
   ]
  },
  {
   "cell_type": "code",
   "execution_count": 40,
   "id": "52c5ad3f",
   "metadata": {},
   "outputs": [
    {
     "data": {
      "text/html": [
       "<div>\n",
       "<style scoped>\n",
       "    .dataframe tbody tr th:only-of-type {\n",
       "        vertical-align: middle;\n",
       "    }\n",
       "\n",
       "    .dataframe tbody tr th {\n",
       "        vertical-align: top;\n",
       "    }\n",
       "\n",
       "    .dataframe thead th {\n",
       "        text-align: right;\n",
       "    }\n",
       "</style>\n",
       "<table border=\"1\" class=\"dataframe\">\n",
       "  <thead>\n",
       "    <tr style=\"text-align: right;\">\n",
       "      <th></th>\n",
       "      <th>Transaction ID</th>\n",
       "      <th>Customer ID</th>\n",
       "      <th>Payment_Mode</th>\n",
       "      <th>Date of Travel</th>\n",
       "      <th>Company</th>\n",
       "      <th>City</th>\n",
       "      <th>KM Travelled</th>\n",
       "      <th>Price Charged</th>\n",
       "      <th>Cost of Trip</th>\n",
       "      <th>Gender</th>\n",
       "      <th>Age</th>\n",
       "      <th>Income (USD/Month)</th>\n",
       "      <th>profit</th>\n",
       "    </tr>\n",
       "  </thead>\n",
       "  <tbody>\n",
       "    <tr>\n",
       "      <th>0</th>\n",
       "      <td>10000011</td>\n",
       "      <td>29290</td>\n",
       "      <td>Card</td>\n",
       "      <td>42377</td>\n",
       "      <td>Pink Cab</td>\n",
       "      <td>ATLANTA GA</td>\n",
       "      <td>30.45</td>\n",
       "      <td>370.95</td>\n",
       "      <td>313.6350</td>\n",
       "      <td>Male</td>\n",
       "      <td>28</td>\n",
       "      <td>10813</td>\n",
       "      <td>57.3150</td>\n",
       "    </tr>\n",
       "    <tr>\n",
       "      <th>1</th>\n",
       "      <td>10351127</td>\n",
       "      <td>29290</td>\n",
       "      <td>Cash</td>\n",
       "      <td>43302</td>\n",
       "      <td>Yellow Cab</td>\n",
       "      <td>ATLANTA GA</td>\n",
       "      <td>26.19</td>\n",
       "      <td>598.70</td>\n",
       "      <td>317.4228</td>\n",
       "      <td>Male</td>\n",
       "      <td>28</td>\n",
       "      <td>10813</td>\n",
       "      <td>281.2772</td>\n",
       "    </tr>\n",
       "    <tr>\n",
       "      <th>2</th>\n",
       "      <td>10412921</td>\n",
       "      <td>29290</td>\n",
       "      <td>Card</td>\n",
       "      <td>43427</td>\n",
       "      <td>Yellow Cab</td>\n",
       "      <td>ATLANTA GA</td>\n",
       "      <td>42.55</td>\n",
       "      <td>792.05</td>\n",
       "      <td>597.4020</td>\n",
       "      <td>Male</td>\n",
       "      <td>28</td>\n",
       "      <td>10813</td>\n",
       "      <td>194.6480</td>\n",
       "    </tr>\n",
       "    <tr>\n",
       "      <th>3</th>\n",
       "      <td>10000012</td>\n",
       "      <td>27703</td>\n",
       "      <td>Card</td>\n",
       "      <td>42375</td>\n",
       "      <td>Pink Cab</td>\n",
       "      <td>ATLANTA GA</td>\n",
       "      <td>28.62</td>\n",
       "      <td>358.52</td>\n",
       "      <td>334.8540</td>\n",
       "      <td>Male</td>\n",
       "      <td>27</td>\n",
       "      <td>9237</td>\n",
       "      <td>23.6660</td>\n",
       "    </tr>\n",
       "    <tr>\n",
       "      <th>4</th>\n",
       "      <td>10320494</td>\n",
       "      <td>27703</td>\n",
       "      <td>Card</td>\n",
       "      <td>43211</td>\n",
       "      <td>Yellow Cab</td>\n",
       "      <td>ATLANTA GA</td>\n",
       "      <td>36.38</td>\n",
       "      <td>721.10</td>\n",
       "      <td>467.1192</td>\n",
       "      <td>Male</td>\n",
       "      <td>27</td>\n",
       "      <td>9237</td>\n",
       "      <td>253.9808</td>\n",
       "    </tr>\n",
       "  </tbody>\n",
       "</table>\n",
       "</div>"
      ],
      "text/plain": [
       "   Transaction ID  Customer ID Payment_Mode  Date of Travel     Company  \\\n",
       "0        10000011        29290         Card           42377    Pink Cab   \n",
       "1        10351127        29290         Cash           43302  Yellow Cab   \n",
       "2        10412921        29290         Card           43427  Yellow Cab   \n",
       "3        10000012        27703         Card           42375    Pink Cab   \n",
       "4        10320494        27703         Card           43211  Yellow Cab   \n",
       "\n",
       "         City  KM Travelled  Price Charged  Cost of Trip Gender  Age  \\\n",
       "0  ATLANTA GA         30.45         370.95      313.6350   Male   28   \n",
       "1  ATLANTA GA         26.19         598.70      317.4228   Male   28   \n",
       "2  ATLANTA GA         42.55         792.05      597.4020   Male   28   \n",
       "3  ATLANTA GA         28.62         358.52      334.8540   Male   27   \n",
       "4  ATLANTA GA         36.38         721.10      467.1192   Male   27   \n",
       "\n",
       "   Income (USD/Month)    profit  \n",
       "0               10813   57.3150  \n",
       "1               10813  281.2772  \n",
       "2               10813  194.6480  \n",
       "3                9237   23.6660  \n",
       "4                9237  253.9808  "
      ]
     },
     "execution_count": 40,
     "metadata": {},
     "output_type": "execute_result"
    }
   ],
   "source": [
    "mergeTCC.head()"
   ]
  },
  {
   "cell_type": "code",
   "execution_count": 41,
   "id": "9806c2e0",
   "metadata": {},
   "outputs": [],
   "source": [
    "# Fix the Date of Travel column\n",
    "date_offsets = mergeTCC['Date of Travel'].tolist()\n",
    "base_date = pd.Timestamp('1899-12-30')  # check this! 1901-01-01\n",
    "dates = [\n",
    "    base_date + pd.DateOffset(date_offset) \n",
    "    for date_offset in date_offsets\n",
    "]\n",
    "\n",
    "# print(dates[0:5])\n",
    "mergeTCC['Date of Travel'] = pd.DataFrame(dates)"
   ]
  },
  {
   "cell_type": "code",
   "execution_count": 42,
   "id": "8166cc75",
   "metadata": {},
   "outputs": [
    {
     "data": {
      "text/html": [
       "<div>\n",
       "<style scoped>\n",
       "    .dataframe tbody tr th:only-of-type {\n",
       "        vertical-align: middle;\n",
       "    }\n",
       "\n",
       "    .dataframe tbody tr th {\n",
       "        vertical-align: top;\n",
       "    }\n",
       "\n",
       "    .dataframe thead th {\n",
       "        text-align: right;\n",
       "    }\n",
       "</style>\n",
       "<table border=\"1\" class=\"dataframe\">\n",
       "  <thead>\n",
       "    <tr style=\"text-align: right;\">\n",
       "      <th></th>\n",
       "      <th>Transaction ID</th>\n",
       "      <th>Customer ID</th>\n",
       "      <th>Payment_Mode</th>\n",
       "      <th>Date of Travel</th>\n",
       "      <th>Company</th>\n",
       "      <th>City</th>\n",
       "      <th>KM Travelled</th>\n",
       "      <th>Price Charged</th>\n",
       "      <th>Cost of Trip</th>\n",
       "      <th>Gender</th>\n",
       "      <th>Age</th>\n",
       "      <th>Income (USD/Month)</th>\n",
       "      <th>profit</th>\n",
       "    </tr>\n",
       "  </thead>\n",
       "  <tbody>\n",
       "    <tr>\n",
       "      <th>0</th>\n",
       "      <td>10000011</td>\n",
       "      <td>29290</td>\n",
       "      <td>Card</td>\n",
       "      <td>2016-01-08</td>\n",
       "      <td>Pink Cab</td>\n",
       "      <td>ATLANTA GA</td>\n",
       "      <td>30.45</td>\n",
       "      <td>370.95</td>\n",
       "      <td>313.6350</td>\n",
       "      <td>Male</td>\n",
       "      <td>28</td>\n",
       "      <td>10813</td>\n",
       "      <td>57.3150</td>\n",
       "    </tr>\n",
       "    <tr>\n",
       "      <th>1</th>\n",
       "      <td>10351127</td>\n",
       "      <td>29290</td>\n",
       "      <td>Cash</td>\n",
       "      <td>2018-07-21</td>\n",
       "      <td>Yellow Cab</td>\n",
       "      <td>ATLANTA GA</td>\n",
       "      <td>26.19</td>\n",
       "      <td>598.70</td>\n",
       "      <td>317.4228</td>\n",
       "      <td>Male</td>\n",
       "      <td>28</td>\n",
       "      <td>10813</td>\n",
       "      <td>281.2772</td>\n",
       "    </tr>\n",
       "    <tr>\n",
       "      <th>2</th>\n",
       "      <td>10412921</td>\n",
       "      <td>29290</td>\n",
       "      <td>Card</td>\n",
       "      <td>2018-11-23</td>\n",
       "      <td>Yellow Cab</td>\n",
       "      <td>ATLANTA GA</td>\n",
       "      <td>42.55</td>\n",
       "      <td>792.05</td>\n",
       "      <td>597.4020</td>\n",
       "      <td>Male</td>\n",
       "      <td>28</td>\n",
       "      <td>10813</td>\n",
       "      <td>194.6480</td>\n",
       "    </tr>\n",
       "    <tr>\n",
       "      <th>3</th>\n",
       "      <td>10000012</td>\n",
       "      <td>27703</td>\n",
       "      <td>Card</td>\n",
       "      <td>2016-01-06</td>\n",
       "      <td>Pink Cab</td>\n",
       "      <td>ATLANTA GA</td>\n",
       "      <td>28.62</td>\n",
       "      <td>358.52</td>\n",
       "      <td>334.8540</td>\n",
       "      <td>Male</td>\n",
       "      <td>27</td>\n",
       "      <td>9237</td>\n",
       "      <td>23.6660</td>\n",
       "    </tr>\n",
       "    <tr>\n",
       "      <th>4</th>\n",
       "      <td>10320494</td>\n",
       "      <td>27703</td>\n",
       "      <td>Card</td>\n",
       "      <td>2018-04-21</td>\n",
       "      <td>Yellow Cab</td>\n",
       "      <td>ATLANTA GA</td>\n",
       "      <td>36.38</td>\n",
       "      <td>721.10</td>\n",
       "      <td>467.1192</td>\n",
       "      <td>Male</td>\n",
       "      <td>27</td>\n",
       "      <td>9237</td>\n",
       "      <td>253.9808</td>\n",
       "    </tr>\n",
       "  </tbody>\n",
       "</table>\n",
       "</div>"
      ],
      "text/plain": [
       "   Transaction ID  Customer ID Payment_Mode Date of Travel     Company  \\\n",
       "0        10000011        29290         Card     2016-01-08    Pink Cab   \n",
       "1        10351127        29290         Cash     2018-07-21  Yellow Cab   \n",
       "2        10412921        29290         Card     2018-11-23  Yellow Cab   \n",
       "3        10000012        27703         Card     2016-01-06    Pink Cab   \n",
       "4        10320494        27703         Card     2018-04-21  Yellow Cab   \n",
       "\n",
       "         City  KM Travelled  Price Charged  Cost of Trip Gender  Age  \\\n",
       "0  ATLANTA GA         30.45         370.95      313.6350   Male   28   \n",
       "1  ATLANTA GA         26.19         598.70      317.4228   Male   28   \n",
       "2  ATLANTA GA         42.55         792.05      597.4020   Male   28   \n",
       "3  ATLANTA GA         28.62         358.52      334.8540   Male   27   \n",
       "4  ATLANTA GA         36.38         721.10      467.1192   Male   27   \n",
       "\n",
       "   Income (USD/Month)    profit  \n",
       "0               10813   57.3150  \n",
       "1               10813  281.2772  \n",
       "2               10813  194.6480  \n",
       "3                9237   23.6660  \n",
       "4                9237  253.9808  "
      ]
     },
     "execution_count": 42,
     "metadata": {},
     "output_type": "execute_result"
    }
   ],
   "source": [
    "mergeTCC.head()"
   ]
  },
  {
   "cell_type": "code",
   "execution_count": 43,
   "id": "1063670c",
   "metadata": {},
   "outputs": [],
   "source": [
    "# Select those rows --Pink cab, and create a new dataframe\n",
    "df_Pink = mergeTCC[(mergeTCC['Company'] == 'Pink Cab')] # select compary = 'Pink cabe' and create a new dataframe"
   ]
  },
  {
   "cell_type": "code",
   "execution_count": 44,
   "id": "c9ce241d",
   "metadata": {},
   "outputs": [
    {
     "data": {
      "text/html": [
       "<div>\n",
       "<style scoped>\n",
       "    .dataframe tbody tr th:only-of-type {\n",
       "        vertical-align: middle;\n",
       "    }\n",
       "\n",
       "    .dataframe tbody tr th {\n",
       "        vertical-align: top;\n",
       "    }\n",
       "\n",
       "    .dataframe thead th {\n",
       "        text-align: right;\n",
       "    }\n",
       "</style>\n",
       "<table border=\"1\" class=\"dataframe\">\n",
       "  <thead>\n",
       "    <tr style=\"text-align: right;\">\n",
       "      <th></th>\n",
       "      <th>Transaction ID</th>\n",
       "      <th>Customer ID</th>\n",
       "      <th>Payment_Mode</th>\n",
       "      <th>Date of Travel</th>\n",
       "      <th>Company</th>\n",
       "      <th>City</th>\n",
       "      <th>KM Travelled</th>\n",
       "      <th>Price Charged</th>\n",
       "      <th>Cost of Trip</th>\n",
       "      <th>Gender</th>\n",
       "      <th>Age</th>\n",
       "      <th>Income (USD/Month)</th>\n",
       "      <th>profit</th>\n",
       "    </tr>\n",
       "  </thead>\n",
       "  <tbody>\n",
       "    <tr>\n",
       "      <th>0</th>\n",
       "      <td>10000011</td>\n",
       "      <td>29290</td>\n",
       "      <td>Card</td>\n",
       "      <td>2016-01-08</td>\n",
       "      <td>Pink Cab</td>\n",
       "      <td>ATLANTA GA</td>\n",
       "      <td>30.45</td>\n",
       "      <td>370.95</td>\n",
       "      <td>313.635</td>\n",
       "      <td>Male</td>\n",
       "      <td>28</td>\n",
       "      <td>10813</td>\n",
       "      <td>57.315</td>\n",
       "    </tr>\n",
       "    <tr>\n",
       "      <th>3</th>\n",
       "      <td>10000012</td>\n",
       "      <td>27703</td>\n",
       "      <td>Card</td>\n",
       "      <td>2016-01-06</td>\n",
       "      <td>Pink Cab</td>\n",
       "      <td>ATLANTA GA</td>\n",
       "      <td>28.62</td>\n",
       "      <td>358.52</td>\n",
       "      <td>334.854</td>\n",
       "      <td>Male</td>\n",
       "      <td>27</td>\n",
       "      <td>9237</td>\n",
       "      <td>23.666</td>\n",
       "    </tr>\n",
       "    <tr>\n",
       "      <th>6</th>\n",
       "      <td>10395626</td>\n",
       "      <td>27703</td>\n",
       "      <td>Card</td>\n",
       "      <td>2018-10-27</td>\n",
       "      <td>Pink Cab</td>\n",
       "      <td>ATLANTA GA</td>\n",
       "      <td>13.39</td>\n",
       "      <td>167.03</td>\n",
       "      <td>141.934</td>\n",
       "      <td>Male</td>\n",
       "      <td>27</td>\n",
       "      <td>9237</td>\n",
       "      <td>25.096</td>\n",
       "    </tr>\n",
       "    <tr>\n",
       "      <th>7</th>\n",
       "      <td>10000013</td>\n",
       "      <td>28712</td>\n",
       "      <td>Cash</td>\n",
       "      <td>2016-01-02</td>\n",
       "      <td>Pink Cab</td>\n",
       "      <td>ATLANTA GA</td>\n",
       "      <td>9.04</td>\n",
       "      <td>125.20</td>\n",
       "      <td>97.632</td>\n",
       "      <td>Male</td>\n",
       "      <td>53</td>\n",
       "      <td>11242</td>\n",
       "      <td>27.568</td>\n",
       "    </tr>\n",
       "    <tr>\n",
       "      <th>11</th>\n",
       "      <td>10000014</td>\n",
       "      <td>28020</td>\n",
       "      <td>Cash</td>\n",
       "      <td>2016-01-07</td>\n",
       "      <td>Pink Cab</td>\n",
       "      <td>ATLANTA GA</td>\n",
       "      <td>33.17</td>\n",
       "      <td>377.40</td>\n",
       "      <td>351.602</td>\n",
       "      <td>Male</td>\n",
       "      <td>23</td>\n",
       "      <td>23327</td>\n",
       "      <td>25.798</td>\n",
       "    </tr>\n",
       "  </tbody>\n",
       "</table>\n",
       "</div>"
      ],
      "text/plain": [
       "    Transaction ID  Customer ID Payment_Mode Date of Travel   Company  \\\n",
       "0         10000011        29290         Card     2016-01-08  Pink Cab   \n",
       "3         10000012        27703         Card     2016-01-06  Pink Cab   \n",
       "6         10395626        27703         Card     2018-10-27  Pink Cab   \n",
       "7         10000013        28712         Cash     2016-01-02  Pink Cab   \n",
       "11        10000014        28020         Cash     2016-01-07  Pink Cab   \n",
       "\n",
       "          City  KM Travelled  Price Charged  Cost of Trip Gender  Age  \\\n",
       "0   ATLANTA GA         30.45         370.95       313.635   Male   28   \n",
       "3   ATLANTA GA         28.62         358.52       334.854   Male   27   \n",
       "6   ATLANTA GA         13.39         167.03       141.934   Male   27   \n",
       "7   ATLANTA GA          9.04         125.20        97.632   Male   53   \n",
       "11  ATLANTA GA         33.17         377.40       351.602   Male   23   \n",
       "\n",
       "    Income (USD/Month)  profit  \n",
       "0                10813  57.315  \n",
       "3                 9237  23.666  \n",
       "6                 9237  25.096  \n",
       "7                11242  27.568  \n",
       "11               23327  25.798  "
      ]
     },
     "execution_count": 44,
     "metadata": {},
     "output_type": "execute_result"
    }
   ],
   "source": [
    "df_Pink.head()"
   ]
  },
  {
   "cell_type": "code",
   "execution_count": 45,
   "id": "b331ee4d",
   "metadata": {},
   "outputs": [],
   "source": [
    "# Select those rows --Yellow cab,and create a new dataframe\n",
    "df_Yellow = mergeTCC[(mergeTCC['Company'] == 'Yellow Cab')] # select compary = 'Yellow cabe' and create a new dataframe"
   ]
  },
  {
   "cell_type": "code",
   "execution_count": 46,
   "id": "9362e033",
   "metadata": {
    "scrolled": true
   },
   "outputs": [
    {
     "data": {
      "text/html": [
       "<div>\n",
       "<style scoped>\n",
       "    .dataframe tbody tr th:only-of-type {\n",
       "        vertical-align: middle;\n",
       "    }\n",
       "\n",
       "    .dataframe tbody tr th {\n",
       "        vertical-align: top;\n",
       "    }\n",
       "\n",
       "    .dataframe thead th {\n",
       "        text-align: right;\n",
       "    }\n",
       "</style>\n",
       "<table border=\"1\" class=\"dataframe\">\n",
       "  <thead>\n",
       "    <tr style=\"text-align: right;\">\n",
       "      <th></th>\n",
       "      <th>Transaction ID</th>\n",
       "      <th>Customer ID</th>\n",
       "      <th>Payment_Mode</th>\n",
       "      <th>Date of Travel</th>\n",
       "      <th>Company</th>\n",
       "      <th>City</th>\n",
       "      <th>KM Travelled</th>\n",
       "      <th>Price Charged</th>\n",
       "      <th>Cost of Trip</th>\n",
       "      <th>Gender</th>\n",
       "      <th>Age</th>\n",
       "      <th>Income (USD/Month)</th>\n",
       "      <th>profit</th>\n",
       "    </tr>\n",
       "  </thead>\n",
       "  <tbody>\n",
       "    <tr>\n",
       "      <th>1</th>\n",
       "      <td>10351127</td>\n",
       "      <td>29290</td>\n",
       "      <td>Cash</td>\n",
       "      <td>2018-07-21</td>\n",
       "      <td>Yellow Cab</td>\n",
       "      <td>ATLANTA GA</td>\n",
       "      <td>26.19</td>\n",
       "      <td>598.70</td>\n",
       "      <td>317.4228</td>\n",
       "      <td>Male</td>\n",
       "      <td>28</td>\n",
       "      <td>10813</td>\n",
       "      <td>281.2772</td>\n",
       "    </tr>\n",
       "    <tr>\n",
       "      <th>2</th>\n",
       "      <td>10412921</td>\n",
       "      <td>29290</td>\n",
       "      <td>Card</td>\n",
       "      <td>2018-11-23</td>\n",
       "      <td>Yellow Cab</td>\n",
       "      <td>ATLANTA GA</td>\n",
       "      <td>42.55</td>\n",
       "      <td>792.05</td>\n",
       "      <td>597.4020</td>\n",
       "      <td>Male</td>\n",
       "      <td>28</td>\n",
       "      <td>10813</td>\n",
       "      <td>194.6480</td>\n",
       "    </tr>\n",
       "    <tr>\n",
       "      <th>4</th>\n",
       "      <td>10320494</td>\n",
       "      <td>27703</td>\n",
       "      <td>Card</td>\n",
       "      <td>2018-04-21</td>\n",
       "      <td>Yellow Cab</td>\n",
       "      <td>ATLANTA GA</td>\n",
       "      <td>36.38</td>\n",
       "      <td>721.10</td>\n",
       "      <td>467.1192</td>\n",
       "      <td>Male</td>\n",
       "      <td>27</td>\n",
       "      <td>9237</td>\n",
       "      <td>253.9808</td>\n",
       "    </tr>\n",
       "    <tr>\n",
       "      <th>5</th>\n",
       "      <td>10324737</td>\n",
       "      <td>27703</td>\n",
       "      <td>Cash</td>\n",
       "      <td>2018-05-04</td>\n",
       "      <td>Yellow Cab</td>\n",
       "      <td>ATLANTA GA</td>\n",
       "      <td>6.18</td>\n",
       "      <td>138.40</td>\n",
       "      <td>87.5088</td>\n",
       "      <td>Male</td>\n",
       "      <td>27</td>\n",
       "      <td>9237</td>\n",
       "      <td>50.8912</td>\n",
       "    </tr>\n",
       "    <tr>\n",
       "      <th>8</th>\n",
       "      <td>10079404</td>\n",
       "      <td>28712</td>\n",
       "      <td>Card</td>\n",
       "      <td>2016-09-21</td>\n",
       "      <td>Yellow Cab</td>\n",
       "      <td>ATLANTA GA</td>\n",
       "      <td>39.60</td>\n",
       "      <td>704.30</td>\n",
       "      <td>494.2080</td>\n",
       "      <td>Male</td>\n",
       "      <td>53</td>\n",
       "      <td>11242</td>\n",
       "      <td>210.0920</td>\n",
       "    </tr>\n",
       "  </tbody>\n",
       "</table>\n",
       "</div>"
      ],
      "text/plain": [
       "   Transaction ID  Customer ID Payment_Mode Date of Travel     Company  \\\n",
       "1        10351127        29290         Cash     2018-07-21  Yellow Cab   \n",
       "2        10412921        29290         Card     2018-11-23  Yellow Cab   \n",
       "4        10320494        27703         Card     2018-04-21  Yellow Cab   \n",
       "5        10324737        27703         Cash     2018-05-04  Yellow Cab   \n",
       "8        10079404        28712         Card     2016-09-21  Yellow Cab   \n",
       "\n",
       "         City  KM Travelled  Price Charged  Cost of Trip Gender  Age  \\\n",
       "1  ATLANTA GA         26.19         598.70      317.4228   Male   28   \n",
       "2  ATLANTA GA         42.55         792.05      597.4020   Male   28   \n",
       "4  ATLANTA GA         36.38         721.10      467.1192   Male   27   \n",
       "5  ATLANTA GA          6.18         138.40       87.5088   Male   27   \n",
       "8  ATLANTA GA         39.60         704.30      494.2080   Male   53   \n",
       "\n",
       "   Income (USD/Month)    profit  \n",
       "1               10813  281.2772  \n",
       "2               10813  194.6480  \n",
       "4                9237  253.9808  \n",
       "5                9237   50.8912  \n",
       "8               11242  210.0920  "
      ]
     },
     "execution_count": 46,
     "metadata": {},
     "output_type": "execute_result"
    }
   ],
   "source": [
    "df_Yellow.head()"
   ]
  },
  {
   "cell_type": "code",
   "execution_count": 47,
   "id": "dc7aa351",
   "metadata": {},
   "outputs": [
    {
     "data": {
      "text/plain": [
       "<AxesSubplot:xlabel='profit', ylabel='Price Charged'>"
      ]
     },
     "execution_count": 47,
     "metadata": {},
     "output_type": "execute_result"
    },
    {
     "data": {
      "image/png": "[encoded data removed]",
      "text/plain": [
       "<Figure size 432x288 with 1 Axes>"
      ]
     },
     "metadata": {
      "needs_background": "light"
     },
     "output_type": "display_data"
    }
   ],
   "source": [
    "df_Pink.plot.scatter(x='profit', y='Price Charged', colormap='viridis') # scatter plot\n",
    "# We can noticed that some rows have negative profit -- Pink cab"
   ]
  },
  {
   "cell_type": "code",
   "execution_count": 48,
   "id": "9f9867e3",
   "metadata": {},
   "outputs": [
    {
     "data": {
      "text/plain": [
       "11129"
      ]
     },
     "execution_count": 48,
     "metadata": {},
     "output_type": "execute_result"
    }
   ],
   "source": [
    "(df_Pink['profit'] < 0).sum() \n",
    "# Count the number of rows with negative profit"
   ]
  },
  {
   "cell_type": "code",
   "execution_count": 49,
   "id": "9354a630",
   "metadata": {},
   "outputs": [],
   "source": [
    "df1 = df_Pink[(df_Pink['profit'] < 0)] # new dataframe include those negative profit rows -- Pink cab"
   ]
  },
  {
   "cell_type": "code",
   "execution_count": 50,
   "id": "7473e366",
   "metadata": {},
   "outputs": [
    {
     "data": {
      "text/html": [
       "<div>\n",
       "<style scoped>\n",
       "    .dataframe tbody tr th:only-of-type {\n",
       "        vertical-align: middle;\n",
       "    }\n",
       "\n",
       "    .dataframe tbody tr th {\n",
       "        vertical-align: top;\n",
       "    }\n",
       "\n",
       "    .dataframe thead th {\n",
       "        text-align: right;\n",
       "    }\n",
       "</style>\n",
       "<table border=\"1\" class=\"dataframe\">\n",
       "  <thead>\n",
       "    <tr style=\"text-align: right;\">\n",
       "      <th></th>\n",
       "      <th>Transaction ID</th>\n",
       "      <th>Customer ID</th>\n",
       "      <th>Payment_Mode</th>\n",
       "      <th>Date of Travel</th>\n",
       "      <th>Company</th>\n",
       "      <th>City</th>\n",
       "      <th>KM Travelled</th>\n",
       "      <th>Price Charged</th>\n",
       "      <th>Cost of Trip</th>\n",
       "      <th>Gender</th>\n",
       "      <th>Age</th>\n",
       "      <th>Income (USD/Month)</th>\n",
       "      <th>profit</th>\n",
       "    </tr>\n",
       "  </thead>\n",
       "  <tbody>\n",
       "    <tr>\n",
       "      <th>55</th>\n",
       "      <td>10033870</td>\n",
       "      <td>58774</td>\n",
       "      <td>Card</td>\n",
       "      <td>2016-05-18</td>\n",
       "      <td>Pink Cab</td>\n",
       "      <td>BOSTON MA</td>\n",
       "      <td>38.76</td>\n",
       "      <td>358.90</td>\n",
       "      <td>437.988</td>\n",
       "      <td>Male</td>\n",
       "      <td>20</td>\n",
       "      <td>23602</td>\n",
       "      <td>-79.088</td>\n",
       "    </tr>\n",
       "    <tr>\n",
       "      <th>149</th>\n",
       "      <td>10186345</td>\n",
       "      <td>58346</td>\n",
       "      <td>Card</td>\n",
       "      <td>2017-06-22</td>\n",
       "      <td>Pink Cab</td>\n",
       "      <td>BOSTON MA</td>\n",
       "      <td>35.70</td>\n",
       "      <td>333.12</td>\n",
       "      <td>360.570</td>\n",
       "      <td>Male</td>\n",
       "      <td>27</td>\n",
       "      <td>21650</td>\n",
       "      <td>-27.450</td>\n",
       "    </tr>\n",
       "    <tr>\n",
       "      <th>390</th>\n",
       "      <td>10347790</td>\n",
       "      <td>5777</td>\n",
       "      <td>Card</td>\n",
       "      <td>2018-07-14</td>\n",
       "      <td>Pink Cab</td>\n",
       "      <td>CHICAGO IL</td>\n",
       "      <td>15.47</td>\n",
       "      <td>173.51</td>\n",
       "      <td>176.358</td>\n",
       "      <td>Male</td>\n",
       "      <td>24</td>\n",
       "      <td>28850</td>\n",
       "      <td>-2.848</td>\n",
       "    </tr>\n",
       "    <tr>\n",
       "      <th>402</th>\n",
       "      <td>10066945</td>\n",
       "      <td>3571</td>\n",
       "      <td>Card</td>\n",
       "      <td>2016-08-29</td>\n",
       "      <td>Pink Cab</td>\n",
       "      <td>CHICAGO IL</td>\n",
       "      <td>10.45</td>\n",
       "      <td>100.83</td>\n",
       "      <td>108.680</td>\n",
       "      <td>Male</td>\n",
       "      <td>44</td>\n",
       "      <td>15166</td>\n",
       "      <td>-7.850</td>\n",
       "    </tr>\n",
       "    <tr>\n",
       "      <th>445</th>\n",
       "      <td>10179123</td>\n",
       "      <td>5734</td>\n",
       "      <td>Card</td>\n",
       "      <td>2017-06-02</td>\n",
       "      <td>Pink Cab</td>\n",
       "      <td>CHICAGO IL</td>\n",
       "      <td>38.28</td>\n",
       "      <td>385.22</td>\n",
       "      <td>444.048</td>\n",
       "      <td>Male</td>\n",
       "      <td>23</td>\n",
       "      <td>22475</td>\n",
       "      <td>-58.828</td>\n",
       "    </tr>\n",
       "  </tbody>\n",
       "</table>\n",
       "</div>"
      ],
      "text/plain": [
       "     Transaction ID  Customer ID Payment_Mode Date of Travel   Company  \\\n",
       "55         10033870        58774         Card     2016-05-18  Pink Cab   \n",
       "149        10186345        58346         Card     2017-06-22  Pink Cab   \n",
       "390        10347790         5777         Card     2018-07-14  Pink Cab   \n",
       "402        10066945         3571         Card     2016-08-29  Pink Cab   \n",
       "445        10179123         5734         Card     2017-06-02  Pink Cab   \n",
       "\n",
       "           City  KM Travelled  Price Charged  Cost of Trip Gender  Age  \\\n",
       "55    BOSTON MA         38.76         358.90       437.988   Male   20   \n",
       "149   BOSTON MA         35.70         333.12       360.570   Male   27   \n",
       "390  CHICAGO IL         15.47         173.51       176.358   Male   24   \n",
       "402  CHICAGO IL         10.45         100.83       108.680   Male   44   \n",
       "445  CHICAGO IL         38.28         385.22       444.048   Male   23   \n",
       "\n",
       "     Income (USD/Month)  profit  \n",
       "55                23602 -79.088  \n",
       "149               21650 -27.450  \n",
       "390               28850  -2.848  \n",
       "402               15166  -7.850  \n",
       "445               22475 -58.828  "
      ]
     },
     "execution_count": 50,
     "metadata": {},
     "output_type": "execute_result"
    }
   ],
   "source": [
    "df1.head()"
   ]
  },
  {
   "cell_type": "code",
   "execution_count": 51,
   "id": "dd46c57b",
   "metadata": {},
   "outputs": [],
   "source": [
    "df2 = df_Yellow[(df_Yellow['profit'] < 0)] # new dataframe include those negative profit rows -- Yellow cab"
   ]
  },
  {
   "cell_type": "code",
   "execution_count": 52,
   "id": "001b3546",
   "metadata": {},
   "outputs": [
    {
     "data": {
      "text/html": [
       "<div>\n",
       "<style scoped>\n",
       "    .dataframe tbody tr th:only-of-type {\n",
       "        vertical-align: middle;\n",
       "    }\n",
       "\n",
       "    .dataframe tbody tr th {\n",
       "        vertical-align: top;\n",
       "    }\n",
       "\n",
       "    .dataframe thead th {\n",
       "        text-align: right;\n",
       "    }\n",
       "</style>\n",
       "<table border=\"1\" class=\"dataframe\">\n",
       "  <thead>\n",
       "    <tr style=\"text-align: right;\">\n",
       "      <th></th>\n",
       "      <th>Transaction ID</th>\n",
       "      <th>Customer ID</th>\n",
       "      <th>Payment_Mode</th>\n",
       "      <th>Date of Travel</th>\n",
       "      <th>Company</th>\n",
       "      <th>City</th>\n",
       "      <th>KM Travelled</th>\n",
       "      <th>Price Charged</th>\n",
       "      <th>Cost of Trip</th>\n",
       "      <th>Gender</th>\n",
       "      <th>Age</th>\n",
       "      <th>Income (USD/Month)</th>\n",
       "      <th>profit</th>\n",
       "    </tr>\n",
       "  </thead>\n",
       "  <tbody>\n",
       "    <tr>\n",
       "      <th>26</th>\n",
       "      <td>10246065</td>\n",
       "      <td>33788</td>\n",
       "      <td>Cash</td>\n",
       "      <td>2017-10-29</td>\n",
       "      <td>Yellow Cab</td>\n",
       "      <td>AUSTIN TX</td>\n",
       "      <td>35.97</td>\n",
       "      <td>492.70</td>\n",
       "      <td>500.7024</td>\n",
       "      <td>Male</td>\n",
       "      <td>23</td>\n",
       "      <td>23788</td>\n",
       "      <td>-8.0024</td>\n",
       "    </tr>\n",
       "    <tr>\n",
       "      <th>65</th>\n",
       "      <td>10020665</td>\n",
       "      <td>58627</td>\n",
       "      <td>Card</td>\n",
       "      <td>2016-03-31</td>\n",
       "      <td>Yellow Cab</td>\n",
       "      <td>BOSTON MA</td>\n",
       "      <td>31.64</td>\n",
       "      <td>407.07</td>\n",
       "      <td>432.8352</td>\n",
       "      <td>Male</td>\n",
       "      <td>28</td>\n",
       "      <td>27338</td>\n",
       "      <td>-25.7652</td>\n",
       "    </tr>\n",
       "    <tr>\n",
       "      <th>78</th>\n",
       "      <td>10362532</td>\n",
       "      <td>58627</td>\n",
       "      <td>Card</td>\n",
       "      <td>2018-08-16</td>\n",
       "      <td>Yellow Cab</td>\n",
       "      <td>BOSTON MA</td>\n",
       "      <td>13.09</td>\n",
       "      <td>162.15</td>\n",
       "      <td>168.0756</td>\n",
       "      <td>Male</td>\n",
       "      <td>28</td>\n",
       "      <td>27338</td>\n",
       "      <td>-5.9256</td>\n",
       "    </tr>\n",
       "    <tr>\n",
       "      <th>83</th>\n",
       "      <td>10065021</td>\n",
       "      <td>59007</td>\n",
       "      <td>Card</td>\n",
       "      <td>2016-08-23</td>\n",
       "      <td>Yellow Cab</td>\n",
       "      <td>BOSTON MA</td>\n",
       "      <td>14.70</td>\n",
       "      <td>194.14</td>\n",
       "      <td>204.6240</td>\n",
       "      <td>Male</td>\n",
       "      <td>63</td>\n",
       "      <td>6683</td>\n",
       "      <td>-10.4840</td>\n",
       "    </tr>\n",
       "    <tr>\n",
       "      <th>86</th>\n",
       "      <td>10121293</td>\n",
       "      <td>59007</td>\n",
       "      <td>Cash</td>\n",
       "      <td>2016-12-15</td>\n",
       "      <td>Yellow Cab</td>\n",
       "      <td>BOSTON MA</td>\n",
       "      <td>12.76</td>\n",
       "      <td>164.52</td>\n",
       "      <td>165.3696</td>\n",
       "      <td>Male</td>\n",
       "      <td>63</td>\n",
       "      <td>6683</td>\n",
       "      <td>-0.8496</td>\n",
       "    </tr>\n",
       "  </tbody>\n",
       "</table>\n",
       "</div>"
      ],
      "text/plain": [
       "    Transaction ID  Customer ID Payment_Mode Date of Travel     Company  \\\n",
       "26        10246065        33788         Cash     2017-10-29  Yellow Cab   \n",
       "65        10020665        58627         Card     2016-03-31  Yellow Cab   \n",
       "78        10362532        58627         Card     2018-08-16  Yellow Cab   \n",
       "83        10065021        59007         Card     2016-08-23  Yellow Cab   \n",
       "86        10121293        59007         Cash     2016-12-15  Yellow Cab   \n",
       "\n",
       "         City  KM Travelled  Price Charged  Cost of Trip Gender  Age  \\\n",
       "26  AUSTIN TX         35.97         492.70      500.7024   Male   23   \n",
       "65  BOSTON MA         31.64         407.07      432.8352   Male   28   \n",
       "78  BOSTON MA         13.09         162.15      168.0756   Male   28   \n",
       "83  BOSTON MA         14.70         194.14      204.6240   Male   63   \n",
       "86  BOSTON MA         12.76         164.52      165.3696   Male   63   \n",
       "\n",
       "    Income (USD/Month)   profit  \n",
       "26               23788  -8.0024  \n",
       "65               27338 -25.7652  \n",
       "78               27338  -5.9256  \n",
       "83                6683 -10.4840  \n",
       "86                6683  -0.8496  "
      ]
     },
     "execution_count": 52,
     "metadata": {},
     "output_type": "execute_result"
    }
   ],
   "source": [
    "df2.head()"
   ]
  },
  {
   "cell_type": "code",
   "execution_count": 53,
   "id": "9b3020ba",
   "metadata": {},
   "outputs": [],
   "source": [
    "TotalProfit_Pink = df_Pink['profit'].sum()  # Count the total profit - Pink cab"
   ]
  },
  {
   "cell_type": "code",
   "execution_count": 54,
   "id": "3a98a8b0",
   "metadata": {},
   "outputs": [
    {
     "data": {
      "text/plain": [
       "5307328.3209999995"
      ]
     },
     "execution_count": 54,
     "metadata": {},
     "output_type": "execute_result"
    }
   ],
   "source": [
    "TotalProfit_Pink"
   ]
  },
  {
   "cell_type": "code",
   "execution_count": 55,
   "id": "4b95fc11",
   "metadata": {
    "scrolled": true
   },
   "outputs": [
    {
     "data": {
      "text/plain": [
       "<AxesSubplot:xlabel='profit', ylabel='Price Charged'>"
      ]
     },
     "execution_count": 55,
     "metadata": {},
     "output_type": "execute_result"
    },
    {
     "data": {
      "image/png": "[encoded data removed]",
      "text/plain": [
       "<Figure size 432x288 with 1 Axes>"
      ]
     },
     "metadata": {
      "needs_background": "light"
     },
     "output_type": "display_data"
    }
   ],
   "source": [
    "df_Yellow.plot.scatter(x='profit', y='Price Charged', colormap='viridis') # scatter plot\n",
    "# We can noticed that some rows have negative profit -- Yellow cab"
   ]
  },
  {
   "cell_type": "code",
   "execution_count": 56,
   "id": "cf8679fd",
   "metadata": {},
   "outputs": [
    {
     "data": {
      "text/plain": [
       "13690"
      ]
     },
     "execution_count": 56,
     "metadata": {},
     "output_type": "execute_result"
    }
   ],
   "source": [
    "(df_Yellow['profit'] < 0).sum() # Count the number of rows with negative profit--Yellow cab"
   ]
  },
  {
   "cell_type": "code",
   "execution_count": 57,
   "id": "e32dcd6a",
   "metadata": {},
   "outputs": [
    {
     "data": {
      "text/plain": [
       "44020373.17079999"
      ]
     },
     "execution_count": 57,
     "metadata": {},
     "output_type": "execute_result"
    }
   ],
   "source": [
    "TotalProfit_Yellow = df_Yellow['profit'].sum()\n",
    "TotalProfit_Yellow\n",
    "# Count the total profit - Yellow cab"
   ]
  },
  {
   "cell_type": "code",
   "execution_count": 58,
   "id": "1946b0cf",
   "metadata": {},
   "outputs": [
    {
     "data": {
      "text/plain": [
       "<AxesSubplot:xlabel='Price Charged', ylabel='profit'>"
      ]
     },
     "execution_count": 58,
     "metadata": {},
     "output_type": "execute_result"
    },
    {
     "data": {
      "image/png": "[encoded data removed]",
      "text/plain": [
       "<Figure size 432x288 with 1 Axes>"
      ]
     },
     "metadata": {
      "needs_background": "light"
     },
     "output_type": "display_data"
    }
   ],
   "source": [
    "df1.plot.scatter(x='Price Charged', y='profit') # to find the price that might get negative profit most - Pink"
   ]
  },
  {
   "cell_type": "code",
   "execution_count": 59,
   "id": "1d345904",
   "metadata": {},
   "outputs": [
    {
     "data": {
      "text/plain": [
       "<AxesSubplot:xlabel='Price Charged', ylabel='profit'>"
      ]
     },
     "execution_count": 59,
     "metadata": {},
     "output_type": "execute_result"
    },
    {
     "data": {
      "image/png": "[encoded data removed]",
      "text/plain": [
       "<Figure size 432x288 with 1 Axes>"
      ]
     },
     "metadata": {
      "needs_background": "light"
     },
     "output_type": "display_data"
    }
   ],
   "source": [
    "df2.plot.scatter(x='Price Charged', y='profit')# to find the price that might get negative profit most - Yellow"
   ]
  },
  {
   "cell_type": "code",
   "execution_count": 60,
   "id": "28a2a4f2",
   "metadata": {},
   "outputs": [
    {
     "data": {
      "text/plain": [
       "<AxesSubplot:xlabel='Payment_Mode', ylabel='profit'>"
      ]
     },
     "execution_count": 60,
     "metadata": {},
     "output_type": "execute_result"
    },
    {
     "data": {
      "image/png": "[encoded data removed]",
      "text/plain": [
       "<Figure size 432x288 with 1 Axes>"
      ]
     },
     "metadata": {
      "needs_background": "light"
     },
     "output_type": "display_data"
    }
   ],
   "source": [
    "df1.plot.scatter(x='Payment_Mode', y='profit') # want to see the count different between two payment method, but the \n",
    "# visualization worked bad, see next part"
   ]
  },
  {
   "cell_type": "code",
   "execution_count": 61,
   "id": "eabeccbe",
   "metadata": {},
   "outputs": [
    {
     "data": {
      "text/plain": [
       "Transaction ID        11129\n",
       "Customer ID           11129\n",
       "Payment_Mode          11129\n",
       "Date of Travel        11129\n",
       "Company               11129\n",
       "City                  11129\n",
       "KM Travelled          11129\n",
       "Price Charged         11129\n",
       "Cost of Trip          11129\n",
       "Gender                11129\n",
       "Age                   11129\n",
       "Income (USD/Month)    11129\n",
       "profit                11129\n",
       "dtype: int64"
      ]
     },
     "execution_count": 61,
     "metadata": {},
     "output_type": "execute_result"
    }
   ],
   "source": [
    "df1.count() # Count total number with negative profit dataframe"
   ]
  },
  {
   "cell_type": "code",
   "execution_count": 62,
   "id": "d4b2f2db",
   "metadata": {},
   "outputs": [
    {
     "data": {
      "text/plain": [
       "4448"
      ]
     },
     "execution_count": 62,
     "metadata": {},
     "output_type": "execute_result"
    }
   ],
   "source": [
    "(df1['Payment_Mode'] == 'Cash').sum() # Check the total num of times get negative profit use Cash -- Pink"
   ]
  },
  {
   "cell_type": "code",
   "execution_count": 63,
   "id": "f6eeab7e",
   "metadata": {},
   "outputs": [
    {
     "data": {
      "text/plain": [
       "6681"
      ]
     },
     "execution_count": 63,
     "metadata": {},
     "output_type": "execute_result"
    }
   ],
   "source": [
    "(df1['Payment_Mode'] == 'Card').sum() # Check the total num of times get negative profit use Card -- Pink"
   ]
  },
  {
   "cell_type": "code",
   "execution_count": 64,
   "id": "9e6992e3",
   "metadata": {},
   "outputs": [
    {
     "data": {
      "text/plain": [
       "11129"
      ]
     },
     "execution_count": 64,
     "metadata": {},
     "output_type": "execute_result"
    }
   ],
   "source": [
    "# Check the total number if it is correct -- Pink\n",
    "4448+6681"
   ]
  },
  {
   "cell_type": "code",
   "execution_count": 65,
   "id": "16d12e24",
   "metadata": {},
   "outputs": [
    {
     "data": {
      "text/plain": [
       "Transaction ID        13690\n",
       "Customer ID           13690\n",
       "Payment_Mode          13690\n",
       "Date of Travel        13690\n",
       "Company               13690\n",
       "City                  13690\n",
       "KM Travelled          13690\n",
       "Price Charged         13690\n",
       "Cost of Trip          13690\n",
       "Gender                13690\n",
       "Age                   13690\n",
       "Income (USD/Month)    13690\n",
       "profit                13690\n",
       "dtype: int64"
      ]
     },
     "execution_count": 65,
     "metadata": {},
     "output_type": "execute_result"
    }
   ],
   "source": [
    "df2.count()"
   ]
  },
  {
   "cell_type": "code",
   "execution_count": 66,
   "id": "d902c96c",
   "metadata": {},
   "outputs": [
    {
     "data": {
      "text/plain": [
       "5425"
      ]
     },
     "execution_count": 66,
     "metadata": {},
     "output_type": "execute_result"
    }
   ],
   "source": [
    "(df2['Payment_Mode'] == 'Cash').sum() # Check the total num of times get negative profit use Cash -- Yellow"
   ]
  },
  {
   "cell_type": "code",
   "execution_count": 67,
   "id": "39fb9870",
   "metadata": {},
   "outputs": [
    {
     "data": {
      "text/plain": [
       "8265"
      ]
     },
     "execution_count": 67,
     "metadata": {},
     "output_type": "execute_result"
    }
   ],
   "source": [
    "(df2['Payment_Mode'] == 'Card').sum() # Check the total num of times get negative profit use Cash -- Pink"
   ]
  },
  {
   "cell_type": "code",
   "execution_count": 68,
   "id": "b301c125",
   "metadata": {},
   "outputs": [
    {
     "data": {
      "text/plain": [
       "13690"
      ]
     },
     "execution_count": 68,
     "metadata": {},
     "output_type": "execute_result"
    }
   ],
   "source": [
    "# Check the total number if it is correct -- Yellow\n",
    "5425+8265"
   ]
  },
  {
   "cell_type": "code",
   "execution_count": 69,
   "id": "1d17863b",
   "metadata": {},
   "outputs": [
    {
     "data": {
      "image/png": "[encoded data removed]",
      "text/plain": [
       "<Figure size 720x504 with 1 Axes>"
      ]
     },
     "metadata": {},
     "output_type": "display_data"
    }
   ],
   "source": [
    "# Display (Pink cab), percentage of getting negative profit from Cash or card\n",
    "Pay_method_Pink = ['Cash', 'Card']\n",
    " \n",
    "data = [4448, 6681] # num from above\n",
    "\n",
    "def func(pct, allvalues):\n",
    "    absolute = int(pct / 100.*np.sum(allvalues))\n",
    "    return \"{:.1f}%\\n({:d} g)\".format(pct, absolute)\n",
    " \n",
    "# Creating plot\n",
    "fig = plt.figure(figsize =(10, 7))\n",
    "plt.pie(data, labels = Pay_method_Pink, autopct = lambda pct: func(pct, data))\n",
    "\n",
    "plt.show()"
   ]
  },
  {
   "cell_type": "code",
   "execution_count": 70,
   "id": "de4eb372",
   "metadata": {},
   "outputs": [
    {
     "data": {
      "image/png": "[encoded data removed]",
      "text/plain": [
       "<Figure size 720x504 with 1 Axes>"
      ]
     },
     "metadata": {},
     "output_type": "display_data"
    }
   ],
   "source": [
    "# Display (Yellow cab), percentage of getting negative profit from Cash or card\n",
    "Pay_method_Yellow = ['Cash', 'Card']\n",
    " \n",
    "data = [5425, 8265] # num from above\n",
    "\n",
    "def func(pct, allvalues):\n",
    "    absolute = int(pct / 100.*np.sum(allvalues))\n",
    "    return \"{:.1f}%\\n({:d} g)\".format(pct, absolute)\n",
    "\n",
    "# Creating plot\n",
    "fig = plt.figure(figsize =(10, 7))\n",
    "plt.pie(data, labels = Pay_method_Yellow, autopct = lambda pct: func(pct, data))\n",
    "\n",
    "plt.show()"
   ]
  },
  {
   "cell_type": "code",
   "execution_count": 71,
   "id": "bf4ebe98",
   "metadata": {},
   "outputs": [
    {
     "data": {
      "text/plain": [
       "<AxesSubplot:xlabel='Date of Travel', ylabel='profit'>"
      ]
     },
     "execution_count": 71,
     "metadata": {},
     "output_type": "execute_result"
    },
    {
     "data": {
      "image/png": "[encoded data removed]",
      "text/plain": [
       "<Figure size 432x288 with 1 Axes>"
      ]
     },
     "metadata": {
      "needs_background": "light"
     },
     "output_type": "display_data"
    }
   ],
   "source": [
    "# Use scatter plot to see particular time period\n",
    "mergeTCC.plot.scatter(x='Date of Travel', y='profit')\n",
    "# From the result we can see that lower profits at the end of the year\n",
    "# We can also find that profits are decreasing year by year"
   ]
  },
  {
   "cell_type": "code",
   "execution_count": 72,
   "id": "f05920b4",
   "metadata": {},
   "outputs": [
    {
     "data": {
      "text/plain": [
       "<AxesSubplot:xlabel='Date of Travel', ylabel='profit'>"
      ]
     },
     "execution_count": 72,
     "metadata": {},
     "output_type": "execute_result"
    },
    {
     "data": {
      "image/png": "[encoded data removed]",
      "text/plain": [
       "<Figure size 432x288 with 1 Axes>"
      ]
     },
     "metadata": {
      "needs_background": "light"
     },
     "output_type": "display_data"
    }
   ],
   "source": [
    "# Use scatter plot to see particular time period -- Pink cab\n",
    "df_Pink.plot.scatter(x='Date of Travel', y='profit')"
   ]
  },
  {
   "cell_type": "code",
   "execution_count": 73,
   "id": "3ae29835",
   "metadata": {},
   "outputs": [
    {
     "data": {
      "text/plain": [
       "<AxesSubplot:xlabel='Date of Travel', ylabel='profit'>"
      ]
     },
     "execution_count": 73,
     "metadata": {},
     "output_type": "execute_result"
    },
    {
     "data": {
      "image/png": "[encoded data removed]",
      "text/plain": [
       "<Figure size 432x288 with 1 Axes>"
      ]
     },
     "metadata": {
      "needs_background": "light"
     },
     "output_type": "display_data"
    }
   ],
   "source": [
    "# Use scatter plot to see particular time period -- Yellow cab\n",
    "df_Yellow.plot.scatter(x='Date of Travel', y='profit')"
   ]
  },
  {
   "cell_type": "code",
   "execution_count": 74,
   "id": "4ab4ed4c",
   "metadata": {},
   "outputs": [
    {
     "data": {
      "text/html": [
       "<div>\n",
       "<style scoped>\n",
       "    .dataframe tbody tr th:only-of-type {\n",
       "        vertical-align: middle;\n",
       "    }\n",
       "\n",
       "    .dataframe tbody tr th {\n",
       "        vertical-align: top;\n",
       "    }\n",
       "\n",
       "    .dataframe thead th {\n",
       "        text-align: right;\n",
       "    }\n",
       "</style>\n",
       "<table border=\"1\" class=\"dataframe\">\n",
       "  <thead>\n",
       "    <tr style=\"text-align: right;\">\n",
       "      <th></th>\n",
       "      <th>Transaction ID</th>\n",
       "      <th>Customer ID</th>\n",
       "      <th>Payment_Mode</th>\n",
       "      <th>Date of Travel</th>\n",
       "      <th>Company</th>\n",
       "      <th>City</th>\n",
       "      <th>KM Travelled</th>\n",
       "      <th>Price Charged</th>\n",
       "      <th>Cost of Trip</th>\n",
       "      <th>Gender</th>\n",
       "      <th>Age</th>\n",
       "      <th>Income (USD/Month)</th>\n",
       "      <th>profit</th>\n",
       "    </tr>\n",
       "  </thead>\n",
       "  <tbody>\n",
       "    <tr>\n",
       "      <th>0</th>\n",
       "      <td>10000011</td>\n",
       "      <td>29290</td>\n",
       "      <td>Card</td>\n",
       "      <td>2016-01-08</td>\n",
       "      <td>Pink Cab</td>\n",
       "      <td>ATLANTA GA</td>\n",
       "      <td>30.45</td>\n",
       "      <td>370.95</td>\n",
       "      <td>313.6350</td>\n",
       "      <td>Male</td>\n",
       "      <td>28</td>\n",
       "      <td>10813</td>\n",
       "      <td>57.3150</td>\n",
       "    </tr>\n",
       "    <tr>\n",
       "      <th>1</th>\n",
       "      <td>10351127</td>\n",
       "      <td>29290</td>\n",
       "      <td>Cash</td>\n",
       "      <td>2018-07-21</td>\n",
       "      <td>Yellow Cab</td>\n",
       "      <td>ATLANTA GA</td>\n",
       "      <td>26.19</td>\n",
       "      <td>598.70</td>\n",
       "      <td>317.4228</td>\n",
       "      <td>Male</td>\n",
       "      <td>28</td>\n",
       "      <td>10813</td>\n",
       "      <td>281.2772</td>\n",
       "    </tr>\n",
       "    <tr>\n",
       "      <th>2</th>\n",
       "      <td>10412921</td>\n",
       "      <td>29290</td>\n",
       "      <td>Card</td>\n",
       "      <td>2018-11-23</td>\n",
       "      <td>Yellow Cab</td>\n",
       "      <td>ATLANTA GA</td>\n",
       "      <td>42.55</td>\n",
       "      <td>792.05</td>\n",
       "      <td>597.4020</td>\n",
       "      <td>Male</td>\n",
       "      <td>28</td>\n",
       "      <td>10813</td>\n",
       "      <td>194.6480</td>\n",
       "    </tr>\n",
       "    <tr>\n",
       "      <th>3</th>\n",
       "      <td>10000012</td>\n",
       "      <td>27703</td>\n",
       "      <td>Card</td>\n",
       "      <td>2016-01-06</td>\n",
       "      <td>Pink Cab</td>\n",
       "      <td>ATLANTA GA</td>\n",
       "      <td>28.62</td>\n",
       "      <td>358.52</td>\n",
       "      <td>334.8540</td>\n",
       "      <td>Male</td>\n",
       "      <td>27</td>\n",
       "      <td>9237</td>\n",
       "      <td>23.6660</td>\n",
       "    </tr>\n",
       "    <tr>\n",
       "      <th>4</th>\n",
       "      <td>10320494</td>\n",
       "      <td>27703</td>\n",
       "      <td>Card</td>\n",
       "      <td>2018-04-21</td>\n",
       "      <td>Yellow Cab</td>\n",
       "      <td>ATLANTA GA</td>\n",
       "      <td>36.38</td>\n",
       "      <td>721.10</td>\n",
       "      <td>467.1192</td>\n",
       "      <td>Male</td>\n",
       "      <td>27</td>\n",
       "      <td>9237</td>\n",
       "      <td>253.9808</td>\n",
       "    </tr>\n",
       "  </tbody>\n",
       "</table>\n",
       "</div>"
      ],
      "text/plain": [
       "   Transaction ID  Customer ID Payment_Mode Date of Travel     Company  \\\n",
       "0        10000011        29290         Card     2016-01-08    Pink Cab   \n",
       "1        10351127        29290         Cash     2018-07-21  Yellow Cab   \n",
       "2        10412921        29290         Card     2018-11-23  Yellow Cab   \n",
       "3        10000012        27703         Card     2016-01-06    Pink Cab   \n",
       "4        10320494        27703         Card     2018-04-21  Yellow Cab   \n",
       "\n",
       "         City  KM Travelled  Price Charged  Cost of Trip Gender  Age  \\\n",
       "0  ATLANTA GA         30.45         370.95      313.6350   Male   28   \n",
       "1  ATLANTA GA         26.19         598.70      317.4228   Male   28   \n",
       "2  ATLANTA GA         42.55         792.05      597.4020   Male   28   \n",
       "3  ATLANTA GA         28.62         358.52      334.8540   Male   27   \n",
       "4  ATLANTA GA         36.38         721.10      467.1192   Male   27   \n",
       "\n",
       "   Income (USD/Month)    profit  \n",
       "0               10813   57.3150  \n",
       "1               10813  281.2772  \n",
       "2               10813  194.6480  \n",
       "3                9237   23.6660  \n",
       "4                9237  253.9808  "
      ]
     },
     "execution_count": 74,
     "metadata": {},
     "output_type": "execute_result"
    }
   ],
   "source": [
    "mergeTCC.head()"
   ]
  },
  {
   "cell_type": "code",
   "execution_count": 75,
   "id": "68a5f4f4",
   "metadata": {},
   "outputs": [
    {
     "name": "stdout",
     "output_type": "stream",
     "text": [
      "Number of Male 205912\n",
      "Number of Female 153480\n",
      "Number of other gender 0\n"
     ]
    }
   ],
   "source": [
    "# Print num of each gender in mergeTCC dataframe\n",
    "Gender_M = 0\n",
    "Gender_F = 0\n",
    "Other_Gender = 0\n",
    "\n",
    "for i in range(0, len(mergeTCC[\"Gender\"])):\n",
    "    \n",
    "    if mergeTCC[\"Gender\"][i] == 'Male':   \n",
    "        Gender_M += 1\n",
    "    elif mergeTCC[\"Gender\"][i] == 'Female':\n",
    "        Gender_F += 1\n",
    "    else:\n",
    "        Other_Gender += 1\n",
    "  \n",
    "print(\"Number of Male\", Gender_M)\n",
    "print(\"Number of Female\", Gender_F)\n",
    "print(\"Number of other gender\", Other_Gender)\n",
    "\n",
    "# Set Gender_M = num of Male and Gender_F = num of Frmale and Other_Gender = num of error"
   ]
  },
  {
   "cell_type": "code",
   "execution_count": 76,
   "id": "a59f3da7",
   "metadata": {},
   "outputs": [
    {
     "data": {
      "text/plain": [
       "205912"
      ]
     },
     "execution_count": 76,
     "metadata": {},
     "output_type": "execute_result"
    }
   ],
   "source": [
    "(mergeTCC[\"Gender\"] == 'Male').sum()"
   ]
  },
  {
   "cell_type": "code",
   "execution_count": 77,
   "id": "b5739c2d",
   "metadata": {},
   "outputs": [
    {
     "data": {
      "text/plain": [
       "153480"
      ]
     },
     "execution_count": 77,
     "metadata": {},
     "output_type": "execute_result"
    }
   ],
   "source": [
    "(mergeTCC[\"Gender\"] == 'Female').sum()"
   ]
  },
  {
   "cell_type": "code",
   "execution_count": 78,
   "id": "30b77671",
   "metadata": {},
   "outputs": [
    {
     "data": {
      "text/plain": [
       "Transaction ID        359392\n",
       "Customer ID           359392\n",
       "Payment_Mode          359392\n",
       "Date of Travel        359392\n",
       "Company               359392\n",
       "City                  359392\n",
       "KM Travelled          359392\n",
       "Price Charged         359392\n",
       "Cost of Trip          359392\n",
       "Gender                359392\n",
       "Age                   359392\n",
       "Income (USD/Month)    359392\n",
       "profit                359392\n",
       "dtype: int64"
      ]
     },
     "execution_count": 78,
     "metadata": {},
     "output_type": "execute_result"
    }
   ],
   "source": [
    "mergeTCC.count()"
   ]
  },
  {
   "cell_type": "code",
   "execution_count": 79,
   "id": "932a4dc3",
   "metadata": {},
   "outputs": [
    {
     "data": {
      "text/plain": [
       "359392"
      ]
     },
     "execution_count": 79,
     "metadata": {},
     "output_type": "execute_result"
    }
   ],
   "source": [
    "205912 + 153480 # Check the total number is correct"
   ]
  },
  {
   "cell_type": "code",
   "execution_count": 80,
   "id": "120be8b8",
   "metadata": {},
   "outputs": [
    {
     "data": {
      "image/png": "[encoded data removed]",
      "text/plain": [
       "<Figure size 720x504 with 1 Axes>"
      ]
     },
     "metadata": {},
     "output_type": "display_data"
    }
   ],
   "source": [
    "# Use the pie plot to display the percentage of each gender\n",
    "Gender_type = ['Male', 'Female']\n",
    " \n",
    "data = [Gender_M, Gender_F] # from above\n",
    "\n",
    "def func(pct, allvalues):\n",
    "    absolute = int(pct / 100.*np.sum(allvalues))\n",
    "    return \"{:.1f}%\\n({:d} g)\".format(pct, absolute)\n",
    "\n",
    " \n",
    "# Creating plot\n",
    "fig = plt.figure(figsize =(10, 7))\n",
    "plt.pie(data, labels = Gender_type, autopct = lambda pct: func(pct, data))\n",
    "\n",
    "plt.show()"
   ]
  },
  {
   "cell_type": "code",
   "execution_count": 81,
   "id": "68d3a65b",
   "metadata": {},
   "outputs": [],
   "source": [
    "# Create a new column Year\n",
    "mergeTCC['Year'] = mergeTCC['Date of Travel'].dt.year"
   ]
  },
  {
   "cell_type": "code",
   "execution_count": 82,
   "id": "842307d1",
   "metadata": {},
   "outputs": [
    {
     "data": {
      "text/html": [
       "<div>\n",
       "<style scoped>\n",
       "    .dataframe tbody tr th:only-of-type {\n",
       "        vertical-align: middle;\n",
       "    }\n",
       "\n",
       "    .dataframe tbody tr th {\n",
       "        vertical-align: top;\n",
       "    }\n",
       "\n",
       "    .dataframe thead th {\n",
       "        text-align: right;\n",
       "    }\n",
       "</style>\n",
       "<table border=\"1\" class=\"dataframe\">\n",
       "  <thead>\n",
       "    <tr style=\"text-align: right;\">\n",
       "      <th></th>\n",
       "      <th>Transaction ID</th>\n",
       "      <th>Customer ID</th>\n",
       "      <th>Payment_Mode</th>\n",
       "      <th>Date of Travel</th>\n",
       "      <th>Company</th>\n",
       "      <th>City</th>\n",
       "      <th>KM Travelled</th>\n",
       "      <th>Price Charged</th>\n",
       "      <th>Cost of Trip</th>\n",
       "      <th>Gender</th>\n",
       "      <th>Age</th>\n",
       "      <th>Income (USD/Month)</th>\n",
       "      <th>profit</th>\n",
       "      <th>Year</th>\n",
       "    </tr>\n",
       "  </thead>\n",
       "  <tbody>\n",
       "    <tr>\n",
       "      <th>0</th>\n",
       "      <td>10000011</td>\n",
       "      <td>29290</td>\n",
       "      <td>Card</td>\n",
       "      <td>2016-01-08</td>\n",
       "      <td>Pink Cab</td>\n",
       "      <td>ATLANTA GA</td>\n",
       "      <td>30.45</td>\n",
       "      <td>370.95</td>\n",
       "      <td>313.6350</td>\n",
       "      <td>Male</td>\n",
       "      <td>28</td>\n",
       "      <td>10813</td>\n",
       "      <td>57.3150</td>\n",
       "      <td>2016</td>\n",
       "    </tr>\n",
       "    <tr>\n",
       "      <th>1</th>\n",
       "      <td>10351127</td>\n",
       "      <td>29290</td>\n",
       "      <td>Cash</td>\n",
       "      <td>2018-07-21</td>\n",
       "      <td>Yellow Cab</td>\n",
       "      <td>ATLANTA GA</td>\n",
       "      <td>26.19</td>\n",
       "      <td>598.70</td>\n",
       "      <td>317.4228</td>\n",
       "      <td>Male</td>\n",
       "      <td>28</td>\n",
       "      <td>10813</td>\n",
       "      <td>281.2772</td>\n",
       "      <td>2018</td>\n",
       "    </tr>\n",
       "    <tr>\n",
       "      <th>2</th>\n",
       "      <td>10412921</td>\n",
       "      <td>29290</td>\n",
       "      <td>Card</td>\n",
       "      <td>2018-11-23</td>\n",
       "      <td>Yellow Cab</td>\n",
       "      <td>ATLANTA GA</td>\n",
       "      <td>42.55</td>\n",
       "      <td>792.05</td>\n",
       "      <td>597.4020</td>\n",
       "      <td>Male</td>\n",
       "      <td>28</td>\n",
       "      <td>10813</td>\n",
       "      <td>194.6480</td>\n",
       "      <td>2018</td>\n",
       "    </tr>\n",
       "    <tr>\n",
       "      <th>3</th>\n",
       "      <td>10000012</td>\n",
       "      <td>27703</td>\n",
       "      <td>Card</td>\n",
       "      <td>2016-01-06</td>\n",
       "      <td>Pink Cab</td>\n",
       "      <td>ATLANTA GA</td>\n",
       "      <td>28.62</td>\n",
       "      <td>358.52</td>\n",
       "      <td>334.8540</td>\n",
       "      <td>Male</td>\n",
       "      <td>27</td>\n",
       "      <td>9237</td>\n",
       "      <td>23.6660</td>\n",
       "      <td>2016</td>\n",
       "    </tr>\n",
       "    <tr>\n",
       "      <th>4</th>\n",
       "      <td>10320494</td>\n",
       "      <td>27703</td>\n",
       "      <td>Card</td>\n",
       "      <td>2018-04-21</td>\n",
       "      <td>Yellow Cab</td>\n",
       "      <td>ATLANTA GA</td>\n",
       "      <td>36.38</td>\n",
       "      <td>721.10</td>\n",
       "      <td>467.1192</td>\n",
       "      <td>Male</td>\n",
       "      <td>27</td>\n",
       "      <td>9237</td>\n",
       "      <td>253.9808</td>\n",
       "      <td>2018</td>\n",
       "    </tr>\n",
       "  </tbody>\n",
       "</table>\n",
       "</div>"
      ],
      "text/plain": [
       "   Transaction ID  Customer ID Payment_Mode Date of Travel     Company  \\\n",
       "0        10000011        29290         Card     2016-01-08    Pink Cab   \n",
       "1        10351127        29290         Cash     2018-07-21  Yellow Cab   \n",
       "2        10412921        29290         Card     2018-11-23  Yellow Cab   \n",
       "3        10000012        27703         Card     2016-01-06    Pink Cab   \n",
       "4        10320494        27703         Card     2018-04-21  Yellow Cab   \n",
       "\n",
       "         City  KM Travelled  Price Charged  Cost of Trip Gender  Age  \\\n",
       "0  ATLANTA GA         30.45         370.95      313.6350   Male   28   \n",
       "1  ATLANTA GA         26.19         598.70      317.4228   Male   28   \n",
       "2  ATLANTA GA         42.55         792.05      597.4020   Male   28   \n",
       "3  ATLANTA GA         28.62         358.52      334.8540   Male   27   \n",
       "4  ATLANTA GA         36.38         721.10      467.1192   Male   27   \n",
       "\n",
       "   Income (USD/Month)    profit  Year  \n",
       "0               10813   57.3150  2016  \n",
       "1               10813  281.2772  2018  \n",
       "2               10813  194.6480  2018  \n",
       "3                9237   23.6660  2016  \n",
       "4                9237  253.9808  2018  "
      ]
     },
     "execution_count": 82,
     "metadata": {},
     "output_type": "execute_result"
    }
   ],
   "source": [
    "mergeTCC.head()"
   ]
  },
  {
   "cell_type": "code",
   "execution_count": 83,
   "id": "b9b376f7",
   "metadata": {},
   "outputs": [],
   "source": [
    "# mergeTCC.plot.scatter(x='Year', y='profit', c='Year', colormap='viridis')\n",
    "# Not a good visualization, see next part"
   ]
  },
  {
   "cell_type": "code",
   "execution_count": 84,
   "id": "5b4a6d2b",
   "metadata": {},
   "outputs": [],
   "source": [
    "# New dataframe, year2016\n",
    "df2016 = mergeTCC[(mergeTCC['Year'] == 2016)]"
   ]
  },
  {
   "cell_type": "code",
   "execution_count": 85,
   "id": "9b3439f8",
   "metadata": {},
   "outputs": [
    {
     "data": {
      "text/html": [
       "<div>\n",
       "<style scoped>\n",
       "    .dataframe tbody tr th:only-of-type {\n",
       "        vertical-align: middle;\n",
       "    }\n",
       "\n",
       "    .dataframe tbody tr th {\n",
       "        vertical-align: top;\n",
       "    }\n",
       "\n",
       "    .dataframe thead th {\n",
       "        text-align: right;\n",
       "    }\n",
       "</style>\n",
       "<table border=\"1\" class=\"dataframe\">\n",
       "  <thead>\n",
       "    <tr style=\"text-align: right;\">\n",
       "      <th></th>\n",
       "      <th>Transaction ID</th>\n",
       "      <th>Customer ID</th>\n",
       "      <th>Payment_Mode</th>\n",
       "      <th>Date of Travel</th>\n",
       "      <th>Company</th>\n",
       "      <th>City</th>\n",
       "      <th>KM Travelled</th>\n",
       "      <th>Price Charged</th>\n",
       "      <th>Cost of Trip</th>\n",
       "      <th>Gender</th>\n",
       "      <th>Age</th>\n",
       "      <th>Income (USD/Month)</th>\n",
       "      <th>profit</th>\n",
       "      <th>Year</th>\n",
       "    </tr>\n",
       "  </thead>\n",
       "  <tbody>\n",
       "    <tr>\n",
       "      <th>0</th>\n",
       "      <td>10000011</td>\n",
       "      <td>29290</td>\n",
       "      <td>Card</td>\n",
       "      <td>2016-01-08</td>\n",
       "      <td>Pink Cab</td>\n",
       "      <td>ATLANTA GA</td>\n",
       "      <td>30.45</td>\n",
       "      <td>370.95</td>\n",
       "      <td>313.635</td>\n",
       "      <td>Male</td>\n",
       "      <td>28</td>\n",
       "      <td>10813</td>\n",
       "      <td>57.315</td>\n",
       "      <td>2016</td>\n",
       "    </tr>\n",
       "    <tr>\n",
       "      <th>3</th>\n",
       "      <td>10000012</td>\n",
       "      <td>27703</td>\n",
       "      <td>Card</td>\n",
       "      <td>2016-01-06</td>\n",
       "      <td>Pink Cab</td>\n",
       "      <td>ATLANTA GA</td>\n",
       "      <td>28.62</td>\n",
       "      <td>358.52</td>\n",
       "      <td>334.854</td>\n",
       "      <td>Male</td>\n",
       "      <td>27</td>\n",
       "      <td>9237</td>\n",
       "      <td>23.666</td>\n",
       "      <td>2016</td>\n",
       "    </tr>\n",
       "    <tr>\n",
       "      <th>7</th>\n",
       "      <td>10000013</td>\n",
       "      <td>28712</td>\n",
       "      <td>Cash</td>\n",
       "      <td>2016-01-02</td>\n",
       "      <td>Pink Cab</td>\n",
       "      <td>ATLANTA GA</td>\n",
       "      <td>9.04</td>\n",
       "      <td>125.20</td>\n",
       "      <td>97.632</td>\n",
       "      <td>Male</td>\n",
       "      <td>53</td>\n",
       "      <td>11242</td>\n",
       "      <td>27.568</td>\n",
       "      <td>2016</td>\n",
       "    </tr>\n",
       "    <tr>\n",
       "      <th>8</th>\n",
       "      <td>10079404</td>\n",
       "      <td>28712</td>\n",
       "      <td>Card</td>\n",
       "      <td>2016-09-21</td>\n",
       "      <td>Yellow Cab</td>\n",
       "      <td>ATLANTA GA</td>\n",
       "      <td>39.60</td>\n",
       "      <td>704.30</td>\n",
       "      <td>494.208</td>\n",
       "      <td>Male</td>\n",
       "      <td>53</td>\n",
       "      <td>11242</td>\n",
       "      <td>210.092</td>\n",
       "      <td>2016</td>\n",
       "    </tr>\n",
       "    <tr>\n",
       "      <th>11</th>\n",
       "      <td>10000014</td>\n",
       "      <td>28020</td>\n",
       "      <td>Cash</td>\n",
       "      <td>2016-01-07</td>\n",
       "      <td>Pink Cab</td>\n",
       "      <td>ATLANTA GA</td>\n",
       "      <td>33.17</td>\n",
       "      <td>377.40</td>\n",
       "      <td>351.602</td>\n",
       "      <td>Male</td>\n",
       "      <td>23</td>\n",
       "      <td>23327</td>\n",
       "      <td>25.798</td>\n",
       "      <td>2016</td>\n",
       "    </tr>\n",
       "  </tbody>\n",
       "</table>\n",
       "</div>"
      ],
      "text/plain": [
       "    Transaction ID  Customer ID Payment_Mode Date of Travel     Company  \\\n",
       "0         10000011        29290         Card     2016-01-08    Pink Cab   \n",
       "3         10000012        27703         Card     2016-01-06    Pink Cab   \n",
       "7         10000013        28712         Cash     2016-01-02    Pink Cab   \n",
       "8         10079404        28712         Card     2016-09-21  Yellow Cab   \n",
       "11        10000014        28020         Cash     2016-01-07    Pink Cab   \n",
       "\n",
       "          City  KM Travelled  Price Charged  Cost of Trip Gender  Age  \\\n",
       "0   ATLANTA GA         30.45         370.95       313.635   Male   28   \n",
       "3   ATLANTA GA         28.62         358.52       334.854   Male   27   \n",
       "7   ATLANTA GA          9.04         125.20        97.632   Male   53   \n",
       "8   ATLANTA GA         39.60         704.30       494.208   Male   53   \n",
       "11  ATLANTA GA         33.17         377.40       351.602   Male   23   \n",
       "\n",
       "    Income (USD/Month)   profit  Year  \n",
       "0                10813   57.315  2016  \n",
       "3                 9237   23.666  2016  \n",
       "7                11242   27.568  2016  \n",
       "8                11242  210.092  2016  \n",
       "11               23327   25.798  2016  "
      ]
     },
     "execution_count": 85,
     "metadata": {},
     "output_type": "execute_result"
    }
   ],
   "source": [
    "df2016.head()"
   ]
  },
  {
   "cell_type": "code",
   "execution_count": 86,
   "id": "ec0cf04a",
   "metadata": {},
   "outputs": [],
   "source": [
    "# New dataframe, year2017\n",
    "df2017 = mergeTCC[(mergeTCC['Year'] == 2017)]"
   ]
  },
  {
   "cell_type": "code",
   "execution_count": 87,
   "id": "fd3b40e2",
   "metadata": {},
   "outputs": [
    {
     "data": {
      "text/html": [
       "<div>\n",
       "<style scoped>\n",
       "    .dataframe tbody tr th:only-of-type {\n",
       "        vertical-align: middle;\n",
       "    }\n",
       "\n",
       "    .dataframe tbody tr th {\n",
       "        vertical-align: top;\n",
       "    }\n",
       "\n",
       "    .dataframe thead th {\n",
       "        text-align: right;\n",
       "    }\n",
       "</style>\n",
       "<table border=\"1\" class=\"dataframe\">\n",
       "  <thead>\n",
       "    <tr style=\"text-align: right;\">\n",
       "      <th></th>\n",
       "      <th>Transaction ID</th>\n",
       "      <th>Customer ID</th>\n",
       "      <th>Payment_Mode</th>\n",
       "      <th>Date of Travel</th>\n",
       "      <th>Company</th>\n",
       "      <th>City</th>\n",
       "      <th>KM Travelled</th>\n",
       "      <th>Price Charged</th>\n",
       "      <th>Cost of Trip</th>\n",
       "      <th>Gender</th>\n",
       "      <th>Age</th>\n",
       "      <th>Income (USD/Month)</th>\n",
       "      <th>profit</th>\n",
       "      <th>Year</th>\n",
       "    </tr>\n",
       "  </thead>\n",
       "  <tbody>\n",
       "    <tr>\n",
       "      <th>9</th>\n",
       "      <td>10186994</td>\n",
       "      <td>28712</td>\n",
       "      <td>Card</td>\n",
       "      <td>2017-06-23</td>\n",
       "      <td>Yellow Cab</td>\n",
       "      <td>ATLANTA GA</td>\n",
       "      <td>18.19</td>\n",
       "      <td>365.63</td>\n",
       "      <td>246.6564</td>\n",
       "      <td>Male</td>\n",
       "      <td>53</td>\n",
       "      <td>11242</td>\n",
       "      <td>118.9736</td>\n",
       "      <td>2017</td>\n",
       "    </tr>\n",
       "    <tr>\n",
       "      <th>13</th>\n",
       "      <td>10140112</td>\n",
       "      <td>28020</td>\n",
       "      <td>Card</td>\n",
       "      <td>2017-01-27</td>\n",
       "      <td>Yellow Cab</td>\n",
       "      <td>ATLANTA GA</td>\n",
       "      <td>24.72</td>\n",
       "      <td>515.66</td>\n",
       "      <td>323.3376</td>\n",
       "      <td>Male</td>\n",
       "      <td>23</td>\n",
       "      <td>23327</td>\n",
       "      <td>192.3224</td>\n",
       "      <td>2017</td>\n",
       "    </tr>\n",
       "    <tr>\n",
       "      <th>17</th>\n",
       "      <td>10179732</td>\n",
       "      <td>27182</td>\n",
       "      <td>Cash</td>\n",
       "      <td>2017-06-03</td>\n",
       "      <td>Yellow Cab</td>\n",
       "      <td>ATLANTA GA</td>\n",
       "      <td>20.00</td>\n",
       "      <td>321.04</td>\n",
       "      <td>271.2000</td>\n",
       "      <td>Male</td>\n",
       "      <td>33</td>\n",
       "      <td>8536</td>\n",
       "      <td>49.8400</td>\n",
       "      <td>2017</td>\n",
       "    </tr>\n",
       "    <tr>\n",
       "      <th>22</th>\n",
       "      <td>10196539</td>\n",
       "      <td>27318</td>\n",
       "      <td>Card</td>\n",
       "      <td>2017-07-19</td>\n",
       "      <td>Pink Cab</td>\n",
       "      <td>ATLANTA GA</td>\n",
       "      <td>26.73</td>\n",
       "      <td>329.46</td>\n",
       "      <td>299.3760</td>\n",
       "      <td>Male</td>\n",
       "      <td>25</td>\n",
       "      <td>13984</td>\n",
       "      <td>30.0840</td>\n",
       "      <td>2017</td>\n",
       "    </tr>\n",
       "    <tr>\n",
       "      <th>23</th>\n",
       "      <td>10197294</td>\n",
       "      <td>27318</td>\n",
       "      <td>Card</td>\n",
       "      <td>2017-07-16</td>\n",
       "      <td>Yellow Cab</td>\n",
       "      <td>ATLANTA GA</td>\n",
       "      <td>15.00</td>\n",
       "      <td>410.62</td>\n",
       "      <td>205.2000</td>\n",
       "      <td>Male</td>\n",
       "      <td>25</td>\n",
       "      <td>13984</td>\n",
       "      <td>205.4200</td>\n",
       "      <td>2017</td>\n",
       "    </tr>\n",
       "  </tbody>\n",
       "</table>\n",
       "</div>"
      ],
      "text/plain": [
       "    Transaction ID  Customer ID Payment_Mode Date of Travel     Company  \\\n",
       "9         10186994        28712         Card     2017-06-23  Yellow Cab   \n",
       "13        10140112        28020         Card     2017-01-27  Yellow Cab   \n",
       "17        10179732        27182         Cash     2017-06-03  Yellow Cab   \n",
       "22        10196539        27318         Card     2017-07-19    Pink Cab   \n",
       "23        10197294        27318         Card     2017-07-16  Yellow Cab   \n",
       "\n",
       "          City  KM Travelled  Price Charged  Cost of Trip Gender  Age  \\\n",
       "9   ATLANTA GA         18.19         365.63      246.6564   Male   53   \n",
       "13  ATLANTA GA         24.72         515.66      323.3376   Male   23   \n",
       "17  ATLANTA GA         20.00         321.04      271.2000   Male   33   \n",
       "22  ATLANTA GA         26.73         329.46      299.3760   Male   25   \n",
       "23  ATLANTA GA         15.00         410.62      205.2000   Male   25   \n",
       "\n",
       "    Income (USD/Month)    profit  Year  \n",
       "9                11242  118.9736  2017  \n",
       "13               23327  192.3224  2017  \n",
       "17                8536   49.8400  2017  \n",
       "22               13984   30.0840  2017  \n",
       "23               13984  205.4200  2017  "
      ]
     },
     "execution_count": 87,
     "metadata": {},
     "output_type": "execute_result"
    }
   ],
   "source": [
    "df2017.head()"
   ]
  },
  {
   "cell_type": "code",
   "execution_count": 88,
   "id": "d7358cb1",
   "metadata": {},
   "outputs": [],
   "source": [
    "# New dataframe, year2018\n",
    "df2018 = mergeTCC[(mergeTCC['Year'] == 2018)]"
   ]
  },
  {
   "cell_type": "code",
   "execution_count": 89,
   "id": "4c97cd4b",
   "metadata": {},
   "outputs": [
    {
     "data": {
      "text/html": [
       "<div>\n",
       "<style scoped>\n",
       "    .dataframe tbody tr th:only-of-type {\n",
       "        vertical-align: middle;\n",
       "    }\n",
       "\n",
       "    .dataframe tbody tr th {\n",
       "        vertical-align: top;\n",
       "    }\n",
       "\n",
       "    .dataframe thead th {\n",
       "        text-align: right;\n",
       "    }\n",
       "</style>\n",
       "<table border=\"1\" class=\"dataframe\">\n",
       "  <thead>\n",
       "    <tr style=\"text-align: right;\">\n",
       "      <th></th>\n",
       "      <th>Transaction ID</th>\n",
       "      <th>Customer ID</th>\n",
       "      <th>Payment_Mode</th>\n",
       "      <th>Date of Travel</th>\n",
       "      <th>Company</th>\n",
       "      <th>City</th>\n",
       "      <th>KM Travelled</th>\n",
       "      <th>Price Charged</th>\n",
       "      <th>Cost of Trip</th>\n",
       "      <th>Gender</th>\n",
       "      <th>Age</th>\n",
       "      <th>Income (USD/Month)</th>\n",
       "      <th>profit</th>\n",
       "      <th>Year</th>\n",
       "    </tr>\n",
       "  </thead>\n",
       "  <tbody>\n",
       "    <tr>\n",
       "      <th>1</th>\n",
       "      <td>10351127</td>\n",
       "      <td>29290</td>\n",
       "      <td>Cash</td>\n",
       "      <td>2018-07-21</td>\n",
       "      <td>Yellow Cab</td>\n",
       "      <td>ATLANTA GA</td>\n",
       "      <td>26.19</td>\n",
       "      <td>598.70</td>\n",
       "      <td>317.4228</td>\n",
       "      <td>Male</td>\n",
       "      <td>28</td>\n",
       "      <td>10813</td>\n",
       "      <td>281.2772</td>\n",
       "      <td>2018</td>\n",
       "    </tr>\n",
       "    <tr>\n",
       "      <th>2</th>\n",
       "      <td>10412921</td>\n",
       "      <td>29290</td>\n",
       "      <td>Card</td>\n",
       "      <td>2018-11-23</td>\n",
       "      <td>Yellow Cab</td>\n",
       "      <td>ATLANTA GA</td>\n",
       "      <td>42.55</td>\n",
       "      <td>792.05</td>\n",
       "      <td>597.4020</td>\n",
       "      <td>Male</td>\n",
       "      <td>28</td>\n",
       "      <td>10813</td>\n",
       "      <td>194.6480</td>\n",
       "      <td>2018</td>\n",
       "    </tr>\n",
       "    <tr>\n",
       "      <th>4</th>\n",
       "      <td>10320494</td>\n",
       "      <td>27703</td>\n",
       "      <td>Card</td>\n",
       "      <td>2018-04-21</td>\n",
       "      <td>Yellow Cab</td>\n",
       "      <td>ATLANTA GA</td>\n",
       "      <td>36.38</td>\n",
       "      <td>721.10</td>\n",
       "      <td>467.1192</td>\n",
       "      <td>Male</td>\n",
       "      <td>27</td>\n",
       "      <td>9237</td>\n",
       "      <td>253.9808</td>\n",
       "      <td>2018</td>\n",
       "    </tr>\n",
       "    <tr>\n",
       "      <th>5</th>\n",
       "      <td>10324737</td>\n",
       "      <td>27703</td>\n",
       "      <td>Cash</td>\n",
       "      <td>2018-05-04</td>\n",
       "      <td>Yellow Cab</td>\n",
       "      <td>ATLANTA GA</td>\n",
       "      <td>6.18</td>\n",
       "      <td>138.40</td>\n",
       "      <td>87.5088</td>\n",
       "      <td>Male</td>\n",
       "      <td>27</td>\n",
       "      <td>9237</td>\n",
       "      <td>50.8912</td>\n",
       "      <td>2018</td>\n",
       "    </tr>\n",
       "    <tr>\n",
       "      <th>6</th>\n",
       "      <td>10395626</td>\n",
       "      <td>27703</td>\n",
       "      <td>Card</td>\n",
       "      <td>2018-10-27</td>\n",
       "      <td>Pink Cab</td>\n",
       "      <td>ATLANTA GA</td>\n",
       "      <td>13.39</td>\n",
       "      <td>167.03</td>\n",
       "      <td>141.9340</td>\n",
       "      <td>Male</td>\n",
       "      <td>27</td>\n",
       "      <td>9237</td>\n",
       "      <td>25.0960</td>\n",
       "      <td>2018</td>\n",
       "    </tr>\n",
       "  </tbody>\n",
       "</table>\n",
       "</div>"
      ],
      "text/plain": [
       "   Transaction ID  Customer ID Payment_Mode Date of Travel     Company  \\\n",
       "1        10351127        29290         Cash     2018-07-21  Yellow Cab   \n",
       "2        10412921        29290         Card     2018-11-23  Yellow Cab   \n",
       "4        10320494        27703         Card     2018-04-21  Yellow Cab   \n",
       "5        10324737        27703         Cash     2018-05-04  Yellow Cab   \n",
       "6        10395626        27703         Card     2018-10-27    Pink Cab   \n",
       "\n",
       "         City  KM Travelled  Price Charged  Cost of Trip Gender  Age  \\\n",
       "1  ATLANTA GA         26.19         598.70      317.4228   Male   28   \n",
       "2  ATLANTA GA         42.55         792.05      597.4020   Male   28   \n",
       "4  ATLANTA GA         36.38         721.10      467.1192   Male   27   \n",
       "5  ATLANTA GA          6.18         138.40       87.5088   Male   27   \n",
       "6  ATLANTA GA         13.39         167.03      141.9340   Male   27   \n",
       "\n",
       "   Income (USD/Month)    profit  Year  \n",
       "1               10813  281.2772  2018  \n",
       "2               10813  194.6480  2018  \n",
       "4                9237  253.9808  2018  \n",
       "5                9237   50.8912  2018  \n",
       "6                9237   25.0960  2018  "
      ]
     },
     "execution_count": 89,
     "metadata": {},
     "output_type": "execute_result"
    }
   ],
   "source": [
    "df2018.head()"
   ]
  },
  {
   "cell_type": "code",
   "execution_count": 90,
   "id": "6bf60455",
   "metadata": {},
   "outputs": [
    {
     "data": {
      "text/plain": [
       "Transaction ID        107319\n",
       "Customer ID           107319\n",
       "Payment_Mode          107319\n",
       "Date of Travel        107319\n",
       "Company               107319\n",
       "City                  107319\n",
       "KM Travelled          107319\n",
       "Price Charged         107319\n",
       "Cost of Trip          107319\n",
       "Gender                107319\n",
       "Age                   107319\n",
       "Income (USD/Month)    107319\n",
       "profit                107319\n",
       "Year                  107319\n",
       "dtype: int64"
      ]
     },
     "execution_count": 90,
     "metadata": {},
     "output_type": "execute_result"
    }
   ],
   "source": [
    "Count1 = df2016.count()\n",
    "Count1"
   ]
  },
  {
   "cell_type": "code",
   "execution_count": 91,
   "id": "d4d2ee28",
   "metadata": {},
   "outputs": [
    {
     "data": {
      "text/plain": [
       "Transaction ID        128510\n",
       "Customer ID           128510\n",
       "Payment_Mode          128510\n",
       "Date of Travel        128510\n",
       "Company               128510\n",
       "City                  128510\n",
       "KM Travelled          128510\n",
       "Price Charged         128510\n",
       "Cost of Trip          128510\n",
       "Gender                128510\n",
       "Age                   128510\n",
       "Income (USD/Month)    128510\n",
       "profit                128510\n",
       "Year                  128510\n",
       "dtype: int64"
      ]
     },
     "execution_count": 91,
     "metadata": {},
     "output_type": "execute_result"
    }
   ],
   "source": [
    "Count2 = df2017.count()\n",
    "Count2"
   ]
  },
  {
   "cell_type": "code",
   "execution_count": 92,
   "id": "6a678ed6",
   "metadata": {},
   "outputs": [
    {
     "data": {
      "text/plain": [
       "Transaction ID        123563\n",
       "Customer ID           123563\n",
       "Payment_Mode          123563\n",
       "Date of Travel        123563\n",
       "Company               123563\n",
       "City                  123563\n",
       "KM Travelled          123563\n",
       "Price Charged         123563\n",
       "Cost of Trip          123563\n",
       "Gender                123563\n",
       "Age                   123563\n",
       "Income (USD/Month)    123563\n",
       "profit                123563\n",
       "Year                  123563\n",
       "dtype: int64"
      ]
     },
     "execution_count": 92,
     "metadata": {},
     "output_type": "execute_result"
    }
   ],
   "source": [
    "Count3 = df2018.count()\n",
    "Count3"
   ]
  },
  {
   "cell_type": "code",
   "execution_count": 93,
   "id": "532e394d",
   "metadata": {},
   "outputs": [
    {
     "data": {
      "text/plain": [
       "145.7384680774141"
      ]
     },
     "execution_count": 93,
     "metadata": {},
     "output_type": "execute_result"
    }
   ],
   "source": [
    "# Find averge profit in 2016\n",
    "av_2016 = df2016['profit'].mean(axis=0)\n",
    "av_2016"
   ]
  },
  {
   "cell_type": "code",
   "execution_count": 94,
   "id": "4b0b8b0e",
   "metadata": {},
   "outputs": [
    {
     "data": {
      "text/plain": [
       "144.8107764065053"
      ]
     },
     "execution_count": 94,
     "metadata": {},
     "output_type": "execute_result"
    }
   ],
   "source": [
    "# Find averge profit in 2017\n",
    "av_2017 = df2017['profit'].mean(axis=0)\n",
    "av_2017"
   ]
  },
  {
   "cell_type": "code",
   "execution_count": 95,
   "id": "3bd4f7ce",
   "metadata": {},
   "outputs": [
    {
     "data": {
      "text/plain": [
       "122.02327525391907"
      ]
     },
     "execution_count": 95,
     "metadata": {},
     "output_type": "execute_result"
    }
   ],
   "source": [
    "# Find averge profit in 2018\n",
    "av_2018 = df2018['profit'].mean(axis=0)\n",
    "av_2018"
   ]
  },
  {
   "cell_type": "code",
   "execution_count": 96,
   "id": "f8988147",
   "metadata": {},
   "outputs": [
    {
     "data": {
      "text/plain": [
       "[[2016, 2017, 2018],\n",
       " [145.7384680774141, 144.8107764065053, 122.02327525391907]]"
      ]
     },
     "execution_count": 96,
     "metadata": {},
     "output_type": "execute_result"
    }
   ],
   "source": [
    "# Create a new dataframe include average profit from 2016 to 2018\n",
    "P_Year = [2016, 2017, 2018]\n",
    "P_each_year = [av_2016, av_2017, av_2018]\n",
    "\n",
    "data = []\n",
    "data.append(P_Year)\n",
    "data.append(P_each_year)\n",
    "\n",
    "data"
   ]
  },
  {
   "cell_type": "code",
   "execution_count": 97,
   "id": "5496e534",
   "metadata": {},
   "outputs": [],
   "source": [
    "newdfYP = pd.DataFrame(data).transpose()\n",
    "newdfYP.columns=['Year', 'Average Profit']"
   ]
  },
  {
   "cell_type": "code",
   "execution_count": 98,
   "id": "c2ad634c",
   "metadata": {},
   "outputs": [
    {
     "data": {
      "text/html": [
       "<div>\n",
       "<style scoped>\n",
       "    .dataframe tbody tr th:only-of-type {\n",
       "        vertical-align: middle;\n",
       "    }\n",
       "\n",
       "    .dataframe tbody tr th {\n",
       "        vertical-align: top;\n",
       "    }\n",
       "\n",
       "    .dataframe thead th {\n",
       "        text-align: right;\n",
       "    }\n",
       "</style>\n",
       "<table border=\"1\" class=\"dataframe\">\n",
       "  <thead>\n",
       "    <tr style=\"text-align: right;\">\n",
       "      <th></th>\n",
       "      <th>Year</th>\n",
       "      <th>Average Profit</th>\n",
       "    </tr>\n",
       "  </thead>\n",
       "  <tbody>\n",
       "    <tr>\n",
       "      <th>0</th>\n",
       "      <td>2016.0</td>\n",
       "      <td>145.738468</td>\n",
       "    </tr>\n",
       "    <tr>\n",
       "      <th>1</th>\n",
       "      <td>2017.0</td>\n",
       "      <td>144.810776</td>\n",
       "    </tr>\n",
       "    <tr>\n",
       "      <th>2</th>\n",
       "      <td>2018.0</td>\n",
       "      <td>122.023275</td>\n",
       "    </tr>\n",
       "  </tbody>\n",
       "</table>\n",
       "</div>"
      ],
      "text/plain": [
       "     Year  Average Profit\n",
       "0  2016.0      145.738468\n",
       "1  2017.0      144.810776\n",
       "2  2018.0      122.023275"
      ]
     },
     "execution_count": 98,
     "metadata": {},
     "output_type": "execute_result"
    }
   ],
   "source": [
    "newdfYP"
   ]
  },
  {
   "cell_type": "code",
   "execution_count": null,
   "id": "2095cc99",
   "metadata": {},
   "outputs": [],
   "source": []
  }
 ],
 "metadata": {
  "kernelspec": {
   "display_name": "Python 3 (ipykernel)",
   "language": "python",
   "name": "python3"
  },
  "language_info": {
   "codemirror_mode": {
    "name": "ipython",
    "version": 3
   },
   "file_extension": ".py",
   "mimetype": "text/x-python",
   "name": "python",
   "nbconvert_exporter": "python",
   "pygments_lexer": "ipython3",
   "version": "3.10.4"
  }
 },
 "nbformat": 4,
 "nbformat_minor": 5
}
